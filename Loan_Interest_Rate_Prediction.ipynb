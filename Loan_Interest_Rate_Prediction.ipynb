{
  "nbformat": 4,
  "nbformat_minor": 0,
  "metadata": {
    "colab": {
      "name": "Loan Interest Rate Prediction.ipynb",
      "provenance": [],
      "authorship_tag": "ABX9TyNyZnGQIY8Lyxmq5HCb+eKt",
      "include_colab_link": true
    },
    "kernelspec": {
      "name": "python3",
      "display_name": "Python 3"
    },
    "language_info": {
      "name": "python"
    }
  },
  "cells": [
    {
      "cell_type": "markdown",
      "metadata": {
        "id": "view-in-github",
        "colab_type": "text"
      },
      "source": [
        "<a href=\"https://colab.research.google.com/github/angginadwif/Project-Loan-Interest-Rate-Prediction/blob/main/Loan_Interest_Rate_Prediction.ipynb\" target=\"_parent\"><img src=\"https://colab.research.google.com/assets/colab-badge.svg\" alt=\"Open In Colab\"/></a>"
      ]
    },
    {
      "cell_type": "code",
      "metadata": {
        "colab": {
          "base_uri": "https://localhost:8080/"
        },
        "id": "9ZK59J4HauhM",
        "outputId": "d82ead4b-62b8-4938-f5dc-272628e0842c"
      },
      "source": [
        "pip install lightgbm"
      ],
      "execution_count": null,
      "outputs": [
        {
          "output_type": "stream",
          "text": [
            "Requirement already satisfied: lightgbm in /usr/local/lib/python3.7/dist-packages (2.2.3)\n",
            "Requirement already satisfied: scipy in /usr/local/lib/python3.7/dist-packages (from lightgbm) (1.4.1)\n",
            "Requirement already satisfied: numpy in /usr/local/lib/python3.7/dist-packages (from lightgbm) (1.19.5)\n",
            "Requirement already satisfied: scikit-learn in /usr/local/lib/python3.7/dist-packages (from lightgbm) (0.22.2.post1)\n",
            "Requirement already satisfied: joblib>=0.11 in /usr/local/lib/python3.7/dist-packages (from scikit-learn->lightgbm) (1.0.1)\n"
          ],
          "name": "stdout"
        }
      ]
    },
    {
      "cell_type": "code",
      "metadata": {
        "id": "MdeMQ-F4a8Pp"
      },
      "source": [
        "import lightgbm as lgb"
      ],
      "execution_count": null,
      "outputs": []
    },
    {
      "cell_type": "code",
      "metadata": {
        "colab": {
          "base_uri": "https://localhost:8080/"
        },
        "id": "552VcGHMu-mf",
        "outputId": "11f65993-7eb8-424a-fa8d-b4bcf9822b20"
      },
      "source": [
        "!pip install catboost\n",
        "!pip install ipywidgets\n",
        "!jupyter nbextension enable --py widgetsnbextension"
      ],
      "execution_count": null,
      "outputs": [
        {
          "output_type": "stream",
          "text": [
            "Collecting catboost\n",
            "\u001b[?25l  Downloading https://files.pythonhosted.org/packages/1e/21/d1718eb4c93d6bacdd540b3792187f32ccb1ad9c51b9c4f10875d63ec176/catboost-0.25-cp37-none-manylinux1_x86_64.whl (67.3MB)\n",
            "\u001b[K     |████████████████████████████████| 67.3MB 58kB/s \n",
            "\u001b[?25hRequirement already satisfied: six in /usr/local/lib/python3.7/dist-packages (from catboost) (1.15.0)\n",
            "Requirement already satisfied: scipy in /usr/local/lib/python3.7/dist-packages (from catboost) (1.4.1)\n",
            "Requirement already satisfied: pandas>=0.24.0 in /usr/local/lib/python3.7/dist-packages (from catboost) (1.1.5)\n",
            "Requirement already satisfied: matplotlib in /usr/local/lib/python3.7/dist-packages (from catboost) (3.2.2)\n",
            "Requirement already satisfied: numpy>=1.16.0 in /usr/local/lib/python3.7/dist-packages (from catboost) (1.19.5)\n",
            "Requirement already satisfied: plotly in /usr/local/lib/python3.7/dist-packages (from catboost) (4.4.1)\n",
            "Requirement already satisfied: graphviz in /usr/local/lib/python3.7/dist-packages (from catboost) (0.10.1)\n",
            "Requirement already satisfied: pytz>=2017.2 in /usr/local/lib/python3.7/dist-packages (from pandas>=0.24.0->catboost) (2018.9)\n",
            "Requirement already satisfied: python-dateutil>=2.7.3 in /usr/local/lib/python3.7/dist-packages (from pandas>=0.24.0->catboost) (2.8.1)\n",
            "Requirement already satisfied: cycler>=0.10 in /usr/local/lib/python3.7/dist-packages (from matplotlib->catboost) (0.10.0)\n",
            "Requirement already satisfied: pyparsing!=2.0.4,!=2.1.2,!=2.1.6,>=2.0.1 in /usr/local/lib/python3.7/dist-packages (from matplotlib->catboost) (2.4.7)\n",
            "Requirement already satisfied: kiwisolver>=1.0.1 in /usr/local/lib/python3.7/dist-packages (from matplotlib->catboost) (1.3.1)\n",
            "Requirement already satisfied: retrying>=1.3.3 in /usr/local/lib/python3.7/dist-packages (from plotly->catboost) (1.3.3)\n",
            "Installing collected packages: catboost\n",
            "Successfully installed catboost-0.25\n",
            "Requirement already satisfied: ipywidgets in /usr/local/lib/python3.7/dist-packages (7.6.3)\n",
            "Requirement already satisfied: ipykernel>=4.5.1 in /usr/local/lib/python3.7/dist-packages (from ipywidgets) (4.10.1)\n",
            "Requirement already satisfied: nbformat>=4.2.0 in /usr/local/lib/python3.7/dist-packages (from ipywidgets) (5.1.2)\n",
            "Requirement already satisfied: widgetsnbextension~=3.5.0 in /usr/local/lib/python3.7/dist-packages (from ipywidgets) (3.5.1)\n",
            "Requirement already satisfied: ipython>=4.0.0; python_version >= \"3.3\" in /usr/local/lib/python3.7/dist-packages (from ipywidgets) (5.5.0)\n",
            "Requirement already satisfied: traitlets>=4.3.1 in /usr/local/lib/python3.7/dist-packages (from ipywidgets) (5.0.5)\n",
            "Requirement already satisfied: jupyterlab-widgets>=1.0.0; python_version >= \"3.6\" in /usr/local/lib/python3.7/dist-packages (from ipywidgets) (1.0.0)\n",
            "Requirement already satisfied: tornado>=4.0 in /usr/local/lib/python3.7/dist-packages (from ipykernel>=4.5.1->ipywidgets) (5.1.1)\n",
            "Requirement already satisfied: jupyter-client in /usr/local/lib/python3.7/dist-packages (from ipykernel>=4.5.1->ipywidgets) (5.3.5)\n",
            "Requirement already satisfied: jupyter-core in /usr/local/lib/python3.7/dist-packages (from nbformat>=4.2.0->ipywidgets) (4.7.1)\n",
            "Requirement already satisfied: jsonschema!=2.5.0,>=2.4 in /usr/local/lib/python3.7/dist-packages (from nbformat>=4.2.0->ipywidgets) (2.6.0)\n",
            "Requirement already satisfied: ipython-genutils in /usr/local/lib/python3.7/dist-packages (from nbformat>=4.2.0->ipywidgets) (0.2.0)\n",
            "Requirement already satisfied: notebook>=4.4.1 in /usr/local/lib/python3.7/dist-packages (from widgetsnbextension~=3.5.0->ipywidgets) (5.3.1)\n",
            "Requirement already satisfied: prompt-toolkit<2.0.0,>=1.0.4 in /usr/local/lib/python3.7/dist-packages (from ipython>=4.0.0; python_version >= \"3.3\"->ipywidgets) (1.0.18)\n",
            "Requirement already satisfied: pickleshare in /usr/local/lib/python3.7/dist-packages (from ipython>=4.0.0; python_version >= \"3.3\"->ipywidgets) (0.7.5)\n",
            "Requirement already satisfied: pexpect; sys_platform != \"win32\" in /usr/local/lib/python3.7/dist-packages (from ipython>=4.0.0; python_version >= \"3.3\"->ipywidgets) (4.8.0)\n",
            "Requirement already satisfied: pygments in /usr/local/lib/python3.7/dist-packages (from ipython>=4.0.0; python_version >= \"3.3\"->ipywidgets) (2.6.1)\n",
            "Requirement already satisfied: decorator in /usr/local/lib/python3.7/dist-packages (from ipython>=4.0.0; python_version >= \"3.3\"->ipywidgets) (4.4.2)\n",
            "Requirement already satisfied: simplegeneric>0.8 in /usr/local/lib/python3.7/dist-packages (from ipython>=4.0.0; python_version >= \"3.3\"->ipywidgets) (0.8.1)\n",
            "Requirement already satisfied: setuptools>=18.5 in /usr/local/lib/python3.7/dist-packages (from ipython>=4.0.0; python_version >= \"3.3\"->ipywidgets) (54.1.2)\n",
            "Requirement already satisfied: python-dateutil>=2.1 in /usr/local/lib/python3.7/dist-packages (from jupyter-client->ipykernel>=4.5.1->ipywidgets) (2.8.1)\n",
            "Requirement already satisfied: pyzmq>=13 in /usr/local/lib/python3.7/dist-packages (from jupyter-client->ipykernel>=4.5.1->ipywidgets) (22.0.3)\n",
            "Requirement already satisfied: jinja2 in /usr/local/lib/python3.7/dist-packages (from notebook>=4.4.1->widgetsnbextension~=3.5.0->ipywidgets) (2.11.3)\n",
            "Requirement already satisfied: terminado>=0.8.1 in /usr/local/lib/python3.7/dist-packages (from notebook>=4.4.1->widgetsnbextension~=3.5.0->ipywidgets) (0.9.2)\n",
            "Requirement already satisfied: nbconvert in /usr/local/lib/python3.7/dist-packages (from notebook>=4.4.1->widgetsnbextension~=3.5.0->ipywidgets) (5.6.1)\n",
            "Requirement already satisfied: Send2Trash in /usr/local/lib/python3.7/dist-packages (from notebook>=4.4.1->widgetsnbextension~=3.5.0->ipywidgets) (1.5.0)\n",
            "Requirement already satisfied: six>=1.9.0 in /usr/local/lib/python3.7/dist-packages (from prompt-toolkit<2.0.0,>=1.0.4->ipython>=4.0.0; python_version >= \"3.3\"->ipywidgets) (1.15.0)\n",
            "Requirement already satisfied: wcwidth in /usr/local/lib/python3.7/dist-packages (from prompt-toolkit<2.0.0,>=1.0.4->ipython>=4.0.0; python_version >= \"3.3\"->ipywidgets) (0.2.5)\n",
            "Requirement already satisfied: ptyprocess>=0.5 in /usr/local/lib/python3.7/dist-packages (from pexpect; sys_platform != \"win32\"->ipython>=4.0.0; python_version >= \"3.3\"->ipywidgets) (0.7.0)\n",
            "Requirement already satisfied: MarkupSafe>=0.23 in /usr/local/lib/python3.7/dist-packages (from jinja2->notebook>=4.4.1->widgetsnbextension~=3.5.0->ipywidgets) (1.1.1)\n",
            "Requirement already satisfied: bleach in /usr/local/lib/python3.7/dist-packages (from nbconvert->notebook>=4.4.1->widgetsnbextension~=3.5.0->ipywidgets) (3.3.0)\n",
            "Requirement already satisfied: pandocfilters>=1.4.1 in /usr/local/lib/python3.7/dist-packages (from nbconvert->notebook>=4.4.1->widgetsnbextension~=3.5.0->ipywidgets) (1.4.3)\n",
            "Requirement already satisfied: defusedxml in /usr/local/lib/python3.7/dist-packages (from nbconvert->notebook>=4.4.1->widgetsnbextension~=3.5.0->ipywidgets) (0.7.1)\n",
            "Requirement already satisfied: mistune<2,>=0.8.1 in /usr/local/lib/python3.7/dist-packages (from nbconvert->notebook>=4.4.1->widgetsnbextension~=3.5.0->ipywidgets) (0.8.4)\n",
            "Requirement already satisfied: testpath in /usr/local/lib/python3.7/dist-packages (from nbconvert->notebook>=4.4.1->widgetsnbextension~=3.5.0->ipywidgets) (0.4.4)\n",
            "Requirement already satisfied: entrypoints>=0.2.2 in /usr/local/lib/python3.7/dist-packages (from nbconvert->notebook>=4.4.1->widgetsnbextension~=3.5.0->ipywidgets) (0.3)\n",
            "Requirement already satisfied: packaging in /usr/local/lib/python3.7/dist-packages (from bleach->nbconvert->notebook>=4.4.1->widgetsnbextension~=3.5.0->ipywidgets) (20.9)\n",
            "Requirement already satisfied: webencodings in /usr/local/lib/python3.7/dist-packages (from bleach->nbconvert->notebook>=4.4.1->widgetsnbextension~=3.5.0->ipywidgets) (0.5.1)\n",
            "Requirement already satisfied: pyparsing>=2.0.2 in /usr/local/lib/python3.7/dist-packages (from packaging->bleach->nbconvert->notebook>=4.4.1->widgetsnbextension~=3.5.0->ipywidgets) (2.4.7)\n",
            "Enabling notebook extension jupyter-js-widgets/extension...\n",
            "      - Validating: \u001b[32mOK\u001b[0m\n"
          ],
          "name": "stdout"
        }
      ]
    },
    {
      "cell_type": "markdown",
      "metadata": {
        "id": "DtYV_4W1yx45"
      },
      "source": [
        "# A. Data Exploration"
      ]
    },
    {
      "cell_type": "code",
      "metadata": {
        "id": "LhfxsDE1uTNA"
      },
      "source": [
        "#import library \n",
        "import numpy as np\n",
        "import pandas as pd\n",
        "import seaborn as sns\n",
        "import matplotlib.pyplot as plt\n",
        "import missingno\n",
        "\n",
        "from sklearn.preprocessing import LabelEncoder,StandardScaler\n",
        "from sklearn.model_selection import train_test_split\n",
        "from sklearn.linear_model import LogisticRegression\n",
        "from sklearn.model_selection import train_test_split, KFold, StratifiedKFold\n",
        "from xgboost import XGBClassifier\n",
        "from catboost import CatBoostClassifier, Pool, cv\n",
        "\n",
        "# evaluation\n",
        "from sklearn.metrics import f1_score"
      ],
      "execution_count": null,
      "outputs": []
    },
    {
      "cell_type": "code",
      "metadata": {
        "colab": {
          "base_uri": "https://localhost:8080/"
        },
        "id": "zBZXL0-eaF06",
        "outputId": "fa7c6153-8769-4b67-ab67-7e16f1fc84a8"
      },
      "source": [
        "# set options\n",
        "# changing the display settings\n",
        "pd.set_option('display.max_columns', None) \n",
        "pd.set_option('display.max_rows', None)  \n",
        "pd.set_option('display.max_colwidth', -1)"
      ],
      "execution_count": null,
      "outputs": [
        {
          "output_type": "stream",
          "text": [
            "/usr/local/lib/python3.7/dist-packages/ipykernel_launcher.py:5: FutureWarning: Passing a negative integer is deprecated in version 1.0 and will not be supported in future version. Instead, use None to not limit the column width.\n",
            "  \"\"\"\n"
          ],
          "name": "stderr"
        }
      ]
    },
    {
      "cell_type": "code",
      "metadata": {
        "id": "z52XMDfxwCCR"
      },
      "source": [
        "train = pd.read_csv(\"/content/Train.csv\")\n",
        "test = pd.read_csv(\"/content/Test.csv\")"
      ],
      "execution_count": null,
      "outputs": []
    },
    {
      "cell_type": "code",
      "metadata": {
        "id": "5lnEHRhBwsXr"
      },
      "source": [
        "# combining two datasets\n",
        "data_full = pd.concat([train,test],axis=0)\n",
        "data_full = data_full.reset_index().drop(\"index\",axis=1)\n",
        "data_full"
      ],
      "execution_count": null,
      "outputs": []
    },
    {
      "cell_type": "code",
      "metadata": {
        "id": "Di0kwMLPxma6"
      },
      "source": [
        "# find out row and coloumn from data_full\n",
        "data_full.shape"
      ],
      "execution_count": null,
      "outputs": []
    },
    {
      "cell_type": "code",
      "metadata": {
        "colab": {
          "base_uri": "https://localhost:8080/"
        },
        "id": "PpgxNxqIyL2Z",
        "outputId": "82ab5d0b-cab4-4040-be74-d23df00643f0"
      },
      "source": [
        "# find out row and coloumn from train\n",
        "train.shape"
      ],
      "execution_count": null,
      "outputs": [
        {
          "output_type": "execute_result",
          "data": {
            "text/plain": [
              "(164309, 14)"
            ]
          },
          "metadata": {
            "tags": []
          },
          "execution_count": 174
        }
      ]
    },
    {
      "cell_type": "code",
      "metadata": {
        "colab": {
          "base_uri": "https://localhost:8080/"
        },
        "id": "eJC2xgkSyhqu",
        "outputId": "cfc36555-deb2-4022-c35f-f4abe6a9c411"
      },
      "source": [
        "# find out row and coloumn from test\n",
        "test.shape"
      ],
      "execution_count": null,
      "outputs": [
        {
          "output_type": "execute_result",
          "data": {
            "text/plain": [
              "(109541, 13)"
            ]
          },
          "metadata": {
            "tags": []
          },
          "execution_count": 192
        }
      ]
    },
    {
      "cell_type": "code",
      "metadata": {
        "colab": {
          "base_uri": "https://localhost:8080/"
        },
        "id": "4iG6OGSqyxIv",
        "outputId": "6fdcd56b-7716-4b52-df07-f87ca1d18f0f"
      },
      "source": [
        "#1. Data exploration with head(), info(), describe()\n",
        "print(\"\\n[1] Data eksplorasi dengan head(), info(), describe()\")\n",
        "print(\"Top five records:\")\n",
        "print(data_full.head())\n",
        "print(\"Information dataset:\")\n",
        "print(data_full.info())\n",
        "print(\"Statistik deskriptif dataset:\")\n",
        "print(data_full.describe())"
      ],
      "execution_count": null,
      "outputs": [
        {
          "output_type": "stream",
          "text": [
            "\n",
            "[1] Data eksplorasi dengan head(), info(), describe()\n",
            "Top five records:\n",
            "    Loan_ID Loan_Amount_Requested Length_Employed Home_Owner  Annual_Income  \\\n",
            "0  10000001  7,000                 < 1 year        Rent       68000.0         \n",
            "1  10000002  30,000                4 years         Mortgage  NaN              \n",
            "2  10000003  24,725                7 years         Mortgage   75566.4         \n",
            "3  10000004  16,000                < 1 year        NaN        56160.0         \n",
            "4  10000005  17,000                8 years         Own        96000.0         \n",
            "\n",
            "            Income_Verified     Purpose_Of_Loan  Debt_To_Income  \\\n",
            "0  not verified              car                 18.37            \n",
            "1  VERIFIED - income         debt_consolidation  14.93            \n",
            "2  VERIFIED - income source  debt_consolidation  15.88            \n",
            "3  VERIFIED - income source  debt_consolidation  14.34            \n",
            "4  VERIFIED - income source  debt_consolidation  22.17            \n",
            "\n",
            "   Inquiries_Last_6Mo  Months_Since_Deliquency  Number_Open_Accounts  \\\n",
            "0  0                  NaN                       9                      \n",
            "1  0                   17.0                     12                     \n",
            "2  0                  NaN                       12                     \n",
            "3  3                  NaN                       16                     \n",
            "4  1                  NaN                       19                     \n",
            "\n",
            "   Total_Accounts  Gender  Interest_Rate  \n",
            "0  14              Female  1.0            \n",
            "1  24              Female  3.0            \n",
            "2  16              Male    3.0            \n",
            "3  22              Male    3.0            \n",
            "4  30              Female  1.0            \n",
            "Information dataset:\n",
            "<class 'pandas.core.frame.DataFrame'>\n",
            "RangeIndex: 273850 entries, 0 to 273849\n",
            "Data columns (total 14 columns):\n",
            " #   Column                   Non-Null Count   Dtype  \n",
            "---  ------                   --------------   -----  \n",
            " 0   Loan_ID                  273850 non-null  int64  \n",
            " 1   Loan_Amount_Requested    273850 non-null  object \n",
            " 2   Length_Employed          261543 non-null  object \n",
            " 3   Home_Owner               231790 non-null  object \n",
            " 4   Annual_Income            231850 non-null  float64\n",
            " 5   Income_Verified          273850 non-null  object \n",
            " 6   Purpose_Of_Loan          273850 non-null  object \n",
            " 7   Debt_To_Income           273850 non-null  float64\n",
            " 8   Inquiries_Last_6Mo       273850 non-null  int64  \n",
            " 9   Months_Since_Deliquency  126612 non-null  float64\n",
            " 10  Number_Open_Accounts     273850 non-null  int64  \n",
            " 11  Total_Accounts           273850 non-null  int64  \n",
            " 12  Gender                   273850 non-null  object \n",
            " 13  Interest_Rate            164309 non-null  float64\n",
            "dtypes: float64(4), int64(4), object(6)\n",
            "memory usage: 29.3+ MB\n",
            "None\n",
            "Statistik deskriptif dataset:\n",
            "            Loan_ID  Annual_Income  Debt_To_Income  Inquiries_Last_6Mo  \\\n",
            "count  2.738500e+05  2.318500e+05   273850.000000   273850.000000        \n",
            "mean   1.013693e+07  7.339279e+04   17.215901       0.784543             \n",
            "std    7.905383e+04  5.852984e+04   7.845967        1.036816             \n",
            "min    1.000000e+07  3.000000e+03   0.000000        0.000000             \n",
            "25%    1.006846e+07  4.500000e+04   11.360000       0.000000             \n",
            "50%    1.013693e+07  6.300000e+04   16.850000       0.000000             \n",
            "75%    1.020539e+07  8.900000e+04   22.780000       1.000000             \n",
            "max    1.027385e+07  7.500000e+06   39.990000       8.000000             \n",
            "\n",
            "       Months_Since_Deliquency  Number_Open_Accounts  Total_Accounts  \\\n",
            "count  126612.000000            273850.000000         273850.000000    \n",
            "mean   34.103395                11.186025             25.067975        \n",
            "std    21.750307                4.973663              11.589677        \n",
            "min    0.000000                 0.000000              2.000000         \n",
            "25%    16.000000                8.000000              17.000000        \n",
            "50%    31.000000                10.000000             23.000000        \n",
            "75%    49.000000                14.000000             32.000000        \n",
            "max    180.000000               84.000000             156.000000       \n",
            "\n",
            "       Interest_Rate  \n",
            "count  164309.000000  \n",
            "mean   2.158951       \n",
            "std    0.738364       \n",
            "min    1.000000       \n",
            "25%    2.000000       \n",
            "50%    2.000000       \n",
            "75%    3.000000       \n",
            "max    3.000000       \n"
          ],
          "name": "stdout"
        }
      ]
    },
    {
      "cell_type": "code",
      "metadata": {
        "colab": {
          "base_uri": "https://localhost:8080/"
        },
        "id": "fgATSl2YcdnO",
        "outputId": "b84c5d0a-bc9d-4f72-bc9f-28cac5523b7f"
      },
      "source": [
        "# count Length_Employed based on age\n",
        "train.Length_Employed.value_counts()"
      ],
      "execution_count": null,
      "outputs": [
        {
          "output_type": "execute_result",
          "data": {
            "text/plain": [
              "10+ years    52915\n",
              "2 years      14620\n",
              "3 years      12974\n",
              "< 1 year     12805\n",
              "5 years      10814\n",
              "1 year       10422\n",
              "4 years      9784 \n",
              "7 years      9308 \n",
              "6 years      9094 \n",
              "8 years      7917 \n",
              "9 years      6285 \n",
              "Name: Length_Employed, dtype: int64"
            ]
          },
          "metadata": {
            "tags": []
          },
          "execution_count": 24
        }
      ]
    },
    {
      "cell_type": "code",
      "metadata": {
        "colab": {
          "base_uri": "https://localhost:8080/"
        },
        "id": "peiD9L2rc_P-",
        "outputId": "abb327eb-7ad9-4ea3-ab27-83262ca5d740"
      },
      "source": [
        "# count Length_Employed based on age\n",
        "test.Length_Employed.value_counts()"
      ],
      "execution_count": null,
      "outputs": [
        {
          "output_type": "execute_result",
          "data": {
            "text/plain": [
              "10+ years    35413\n",
              "2 years      9800 \n",
              "3 years      8504 \n",
              "< 1 year     8328 \n",
              "5 years      7228 \n",
              "1 year       6914 \n",
              "4 years      6609 \n",
              "6 years      6257 \n",
              "7 years      6136 \n",
              "8 years      5198 \n",
              "9 years      4218 \n",
              "Name: Length_Employed, dtype: int64"
            ]
          },
          "metadata": {
            "tags": []
          },
          "execution_count": 195
        }
      ]
    },
    {
      "cell_type": "code",
      "metadata": {
        "colab": {
          "base_uri": "https://localhost:8080/"
        },
        "id": "ggglsjjqf0Xq",
        "outputId": "4b439406-7f3b-43f1-a1c2-84549a420f80"
      },
      "source": [
        "# count Home_Owner with data train\n",
        "train[\"Home_Owner\"].value_counts()"
      ],
      "execution_count": null,
      "outputs": [
        {
          "output_type": "execute_result",
          "data": {
            "text/plain": [
              "Mortgage    70345\n",
              "Rent        56031\n",
              "Own         12525\n",
              "Other       49   \n",
              "None        10   \n",
              "Name: Home_Owner, dtype: int64"
            ]
          },
          "metadata": {
            "tags": []
          },
          "execution_count": 196
        }
      ]
    },
    {
      "cell_type": "code",
      "metadata": {
        "colab": {
          "base_uri": "https://localhost:8080/"
        },
        "id": "UCeUPxtZgRUt",
        "outputId": "349d53b5-f690-44d7-dccc-068cae84b4b1"
      },
      "source": [
        "# count Home_Owner with data test\n",
        "test[\"Home_Owner\"].value_counts()"
      ],
      "execution_count": null,
      "outputs": [
        {
          "output_type": "execute_result",
          "data": {
            "text/plain": [
              "Mortgage    46925\n",
              "Rent        37511\n",
              "Own         8354 \n",
              "Other       30   \n",
              "None        10   \n",
              "Name: Home_Owner, dtype: int64"
            ]
          },
          "metadata": {
            "tags": []
          },
          "execution_count": 197
        }
      ]
    },
    {
      "cell_type": "code",
      "metadata": {
        "colab": {
          "base_uri": "https://localhost:8080/"
        },
        "id": "Anc855kThZME",
        "outputId": "ff0f107c-a89c-4297-873e-51e6b323735c"
      },
      "source": [
        "# count Income_Verified with data train\n",
        "train[\"Income_Verified\"].value_counts()"
      ],
      "execution_count": null,
      "outputs": [
        {
          "output_type": "execute_result",
          "data": {
            "text/plain": [
              "VERIFIED - income           59421\n",
              "VERIFIED - income source    53015\n",
              "not verified                51873\n",
              "Name: Income_Verified, dtype: int64"
            ]
          },
          "metadata": {
            "tags": []
          },
          "execution_count": 198
        }
      ]
    },
    {
      "cell_type": "code",
      "metadata": {
        "colab": {
          "base_uri": "https://localhost:8080/"
        },
        "id": "ClQLC8KohIOR",
        "outputId": "c7752207-cea9-4dcb-c705-a40414fe32d7"
      },
      "source": [
        "# count Income_Verified with data test\n",
        "test[\"Income_Verified\"].value_counts()"
      ],
      "execution_count": null,
      "outputs": [
        {
          "output_type": "execute_result",
          "data": {
            "text/plain": [
              "VERIFIED - income           39655\n",
              "VERIFIED - income source    35238\n",
              "not verified                34648\n",
              "Name: Income_Verified, dtype: int64"
            ]
          },
          "metadata": {
            "tags": []
          },
          "execution_count": 199
        }
      ]
    },
    {
      "cell_type": "code",
      "metadata": {
        "colab": {
          "base_uri": "https://localhost:8080/"
        },
        "id": "u5mRkxk7hmxC",
        "outputId": "4fc753d6-02ee-47ab-ee37-1832fe5023a6"
      },
      "source": [
        "# count Purpose_Of_Loan with data train\n",
        "train[\"Purpose_Of_Loan\"].value_counts()"
      ],
      "execution_count": null,
      "outputs": [
        {
          "output_type": "execute_result",
          "data": {
            "text/plain": [
              "debt_consolidation    97101\n",
              "credit_card           36684\n",
              "home_improvement      9269 \n",
              "other                 8346 \n",
              "major_purchase        3435 \n",
              "small_business        2392 \n",
              "car                   1885 \n",
              "medical               1541 \n",
              "moving                974  \n",
              "vacation              837  \n",
              "wedding               828  \n",
              "house                 773  \n",
              "renewable_energy      123  \n",
              "educational           121  \n",
              "Name: Purpose_Of_Loan, dtype: int64"
            ]
          },
          "metadata": {
            "tags": []
          },
          "execution_count": 200
        }
      ]
    },
    {
      "cell_type": "code",
      "metadata": {
        "colab": {
          "base_uri": "https://localhost:8080/"
        },
        "id": "hIrjLbpvjSOJ",
        "outputId": "e4392703-9811-4ac0-c4b6-3e358f18a08b"
      },
      "source": [
        "# count Purpose_Of_Loan with data test\n",
        "test[\"Purpose_Of_Loan\"].value_counts()"
      ],
      "execution_count": null,
      "outputs": [
        {
          "output_type": "execute_result",
          "data": {
            "text/plain": [
              "debt_consolidation    64302\n",
              "credit_card           24710\n",
              "home_improvement      6186 \n",
              "other                 5500 \n",
              "major_purchase        2277 \n",
              "small_business        1672 \n",
              "car                   1264 \n",
              "medical               1092 \n",
              "moving                701  \n",
              "vacation              616  \n",
              "house                 543  \n",
              "wedding               517  \n",
              "renewable_energy      83   \n",
              "educational           78   \n",
              "Name: Purpose_Of_Loan, dtype: int64"
            ]
          },
          "metadata": {
            "tags": []
          },
          "execution_count": 201
        }
      ]
    },
    {
      "cell_type": "code",
      "metadata": {
        "colab": {
          "base_uri": "https://localhost:8080/"
        },
        "id": "ZKjTKvi_jc0F",
        "outputId": "d6855286-de2a-4841-8f52-4914bfff30cf"
      },
      "source": [
        "# count gender with data train\n",
        "train[\"Gender\"].value_counts()"
      ],
      "execution_count": null,
      "outputs": [
        {
          "output_type": "execute_result",
          "data": {
            "text/plain": [
              "Male      117176\n",
              "Female    47133 \n",
              "Name: Gender, dtype: int64"
            ]
          },
          "metadata": {
            "tags": []
          },
          "execution_count": 202
        }
      ]
    },
    {
      "cell_type": "code",
      "metadata": {
        "colab": {
          "base_uri": "https://localhost:8080/"
        },
        "id": "mzOAL1EtjuyK",
        "outputId": "61665bc8-167b-434d-83e5-e381cd4e63ef"
      },
      "source": [
        "# count gender with data train\n",
        "test[\"Gender\"].value_counts()"
      ],
      "execution_count": null,
      "outputs": [
        {
          "output_type": "execute_result",
          "data": {
            "text/plain": [
              "Male      77817\n",
              "Female    31724\n",
              "Name: Gender, dtype: int64"
            ]
          },
          "metadata": {
            "tags": []
          },
          "execution_count": 203
        }
      ]
    },
    {
      "cell_type": "code",
      "metadata": {
        "colab": {
          "base_uri": "https://localhost:8080/"
        },
        "id": "cBgGig27j7Yr",
        "outputId": "314a3d91-295f-4278-de8c-7d0b042687e5"
      },
      "source": [
        "# count Interest_Rate with data train\n",
        "train[\"Interest_Rate\"].value_counts()"
      ],
      "execution_count": null,
      "outputs": [
        {
          "output_type": "execute_result",
          "data": {
            "text/plain": [
              "2    70580\n",
              "3    59923\n",
              "1    33806\n",
              "Name: Interest_Rate, dtype: int64"
            ]
          },
          "metadata": {
            "tags": []
          },
          "execution_count": 17
        }
      ]
    },
    {
      "cell_type": "code",
      "metadata": {
        "colab": {
          "base_uri": "https://localhost:8080/",
          "height": 513
        },
        "id": "COIPC0OZ1bNz",
        "outputId": "a8759766-4af7-4fe9-8799-161ef10aeb07"
      },
      "source": [
        "# Exploration data with visualization\n",
        "# Visualization The number of users is divided into ranges Interest Category (Interest_Rate) using a histogram (hist ()) plot\n",
        "plt.figure(figsize=(5, 7))\n",
        "plt.hist(data_full['Interest_Rate'], bins = data_full.Interest_Rate.nunique())\n",
        "plt.xlabel('Interest_Rate')\n",
        "plt.tight_layout()\n",
        "plt.show()"
      ],
      "execution_count": null,
      "outputs": [
        {
          "output_type": "display_data",
          "data": {
            "image/png": "[encoded data removed]",
            "text/plain": [
              "<Figure size 360x504 with 1 Axes>"
            ]
          },
          "metadata": {
            "tags": [],
            "needs_background": "light"
          }
        }
      ]
    },
    {
      "cell_type": "markdown",
      "metadata": {
        "id": "PAftAQedBOu8"
      },
      "source": [
        "# B. Data Pre-Processing"
      ]
    },
    {
      "cell_type": "code",
      "metadata": {
        "colab": {
          "base_uri": "https://localhost:8080/"
        },
        "id": "MhUb3QOlzgj6",
        "outputId": "82220a61-12e3-4452-9e24-d49c08a7821a"
      },
      "source": [
        "# Checks the dataset with NULL values\n",
        "print(train.isnull().sum())\n",
        "#Counting total missing value\n",
        "print('\\nCounting total missing value:')\n",
        "print(train.isnull().sum().sum())"
      ],
      "execution_count": null,
      "outputs": [
        {
          "output_type": "stream",
          "text": [
            "Loan_ID                    0    \n",
            "Loan_Amount_Requested      0    \n",
            "Length_Employed            7371 \n",
            "Home_Owner                 25349\n",
            "Annual_Income              25102\n",
            "Income_Verified            0    \n",
            "Purpose_Of_Loan            0    \n",
            "Debt_To_Income             0    \n",
            "Inquiries_Last_6Mo         0    \n",
            "Months_Since_Deliquency    88379\n",
            "Number_Open_Accounts       0    \n",
            "Total_Accounts             0    \n",
            "Gender                     0    \n",
            "Interest_Rate              0    \n",
            "dtype: int64\n",
            "\n",
            "Counting total missing value:\n",
            "146201\n"
          ],
          "name": "stdout"
        }
      ]
    },
    {
      "cell_type": "code",
      "metadata": {
        "colab": {
          "base_uri": "https://localhost:8080/"
        },
        "id": "9ZRsWHM1z93o",
        "outputId": "369f442a-ff66-40d7-f9b7-e5b0fbb796c5"
      },
      "source": [
        "# Checks the dataset with NULL values\n",
        "print(test.isnull().sum())\n",
        "#Counting total missing value\n",
        "print('\\nCounting total missing value:')\n",
        "print(test.isnull().sum().sum())"
      ],
      "execution_count": null,
      "outputs": [
        {
          "output_type": "stream",
          "text": [
            "Loan_ID                    0    \n",
            "Loan_Amount_Requested      0    \n",
            "Length_Employed            4936 \n",
            "Home_Owner                 16711\n",
            "Annual_Income              16898\n",
            "Income_Verified            0    \n",
            "Purpose_Of_Loan            0    \n",
            "Debt_To_Income             0    \n",
            "Inquiries_Last_6Mo         0    \n",
            "Months_Since_Deliquency    58859\n",
            "Number_Open_Accounts       0    \n",
            "Total_Accounts             0    \n",
            "Gender                     0    \n",
            "dtype: int64\n",
            "\n",
            "Counting total missing value:\n",
            "97404\n"
          ],
          "name": "stdout"
        }
      ]
    },
    {
      "cell_type": "code",
      "metadata": {
        "colab": {
          "base_uri": "https://localhost:8080/",
          "height": 414
        },
        "id": "VvEhv7XE0cQo",
        "outputId": "6c7987b7-6ab5-44f5-bfaa-f74b2bdd32eb"
      },
      "source": [
        "# Visualization the dataset train\n",
        "missingno.matrix(train, figsize = (35,5))"
      ],
      "execution_count": null,
      "outputs": [
        {
          "output_type": "execute_result",
          "data": {
            "text/plain": [
              "<matplotlib.axes._subplots.AxesSubplot at 0x7f7f5bcabf10>"
            ]
          },
          "metadata": {
            "tags": []
          },
          "execution_count": 207
        },
        {
          "output_type": "display_data",
          "data": {
            "image/png": "[encoded data removed]",
            "text/plain": [
              "<Figure size 2520x360 with 2 Axes>"
            ]
          },
          "metadata": {
            "tags": [],
            "needs_background": "light"
          }
        }
      ]
    },
    {
      "cell_type": "code",
      "metadata": {
        "colab": {
          "base_uri": "https://localhost:8080/",
          "height": 414
        },
        "id": "7P-LXlgU0nEU",
        "outputId": "049e89ce-73d5-4c51-a99b-9518346ba454"
      },
      "source": [
        "# Visualization the dataset test\n",
        "missingno.matrix(test, figsize = (35,5))"
      ],
      "execution_count": null,
      "outputs": [
        {
          "output_type": "execute_result",
          "data": {
            "text/plain": [
              "<matplotlib.axes._subplots.AxesSubplot at 0x7f7f6a039790>"
            ]
          },
          "metadata": {
            "tags": []
          },
          "execution_count": 208
        },
        {
          "output_type": "display_data",
          "data": {
            "image/png": "[encoded data removed]",
            "text/plain": [
              "<Figure size 2520x360 with 2 Axes>"
            ]
          },
          "metadata": {
            "tags": [],
            "needs_background": "light"
          }
        }
      ]
    },
    {
      "cell_type": "code",
      "metadata": {
        "colab": {
          "base_uri": "https://localhost:8080/"
        },
        "id": "UrFnSU_w_aFw",
        "outputId": "51c21bf5-fff5-4e04-9f60-fecb31c85d7d"
      },
      "source": [
        "# combine 2 data \n",
        "data_full.isnull().sum()"
      ],
      "execution_count": null,
      "outputs": [
        {
          "output_type": "execute_result",
          "data": {
            "text/plain": [
              "Loan_ID                    0     \n",
              "Loan_Amount_Requested      0     \n",
              "Length_Employed            12307 \n",
              "Home_Owner                 42060 \n",
              "Annual_Income              42000 \n",
              "Income_Verified            0     \n",
              "Purpose_Of_Loan            0     \n",
              "Debt_To_Income             0     \n",
              "Inquiries_Last_6Mo         0     \n",
              "Months_Since_Deliquency    147238\n",
              "Number_Open_Accounts       0     \n",
              "Total_Accounts             0     \n",
              "Gender                     0     \n",
              "Interest_Rate              109541\n",
              "dtype: int64"
            ]
          },
          "metadata": {
            "tags": []
          },
          "execution_count": 209
        }
      ]
    },
    {
      "cell_type": "code",
      "metadata": {
        "colab": {
          "base_uri": "https://localhost:8080/",
          "height": 769
        },
        "id": "169pZEB4AqUx",
        "outputId": "3a88a479-a1e7-4ea7-8a93-cced89ada5dc"
      },
      "source": [
        "missingno.matrix(data_full)"
      ],
      "execution_count": null,
      "outputs": [
        {
          "output_type": "execute_result",
          "data": {
            "text/plain": [
              "<matplotlib.axes._subplots.AxesSubplot at 0x7f7f6a911050>"
            ]
          },
          "metadata": {
            "tags": []
          },
          "execution_count": 210
        },
        {
          "output_type": "display_data",
          "data": {
            "image/png": "[encoded data removed]",
            "text/plain": [
              "<Figure size 1800x720 with 2 Axes>"
            ]
          },
          "metadata": {
            "tags": [],
            "needs_background": "light"
          }
        }
      ]
    },
    {
      "cell_type": "code",
      "metadata": {
        "id": "RnlrfETJ_Kle"
      },
      "source": [
        "# channge data type from string as float type\n",
        "data_full[\"Loan_Amount_Requested\"] = data_full[\"Loan_Amount_Requested\"].str.replace(\",\", \"\")\n",
        "data_full[\"Loan_Amount_Requested\"] = data_full[\"Loan_Amount_Requested\"].astype(float)"
      ],
      "execution_count": null,
      "outputs": []
    },
    {
      "cell_type": "code",
      "metadata": {
        "colab": {
          "base_uri": "https://localhost:8080/"
        },
        "id": "3a0uguUUNuO2",
        "outputId": "13492dd2-192a-4aac-84ae-0b2b39f9fa1b"
      },
      "source": [
        "# show coloumn Loan_Amount_Requested \n",
        "data_full[\"Loan_Amount_Requested\"].describe()"
      ],
      "execution_count": null,
      "outputs": [
        {
          "output_type": "execute_result",
          "data": {
            "text/plain": [
              "count    273850.000000\n",
              "mean     14352.992240 \n",
              "std      8289.036702  \n",
              "min      500.000000   \n",
              "25%      8000.000000  \n",
              "50%      12000.000000 \n",
              "75%      20000.000000 \n",
              "max      35000.000000 \n",
              "Name: Loan_Amount_Requested, dtype: float64"
            ]
          },
          "metadata": {
            "tags": []
          },
          "execution_count": 212
        }
      ]
    },
    {
      "cell_type": "code",
      "metadata": {
        "id": "O8OrH8TTQ2Vk"
      },
      "source": [
        "# fill in the missing value\n",
        "data_full[\"Length_Employed\"] = data_full[\"Length_Employed\"].fillna(\"-1\")\n",
        "data_full[\"Length_Employed\"] = data_full[\"Length_Employed\"].replace(\"< 1 year\", \"0\")\n",
        "data_full[\"Length_Employed\"] = data_full[\"Length_Employed\"].replace(\"10+ years\", \"10\")\n",
        "data_full[\"Length_Employed\"] = data_full[\"Length_Employed\"].str.replace(\"years\", \"\")\n",
        "data_full[\"Length_Employed\"] = data_full[\"Length_Employed\"].str.replace(\"year\", \"\")"
      ],
      "execution_count": null,
      "outputs": []
    },
    {
      "cell_type": "code",
      "metadata": {
        "id": "1sx6BLsFSmM7"
      },
      "source": [
        "# change data type from string to int\n",
        "data_full[\"Length_Employed\"] = data_full[\"Length_Employed\"].astype(int)"
      ],
      "execution_count": null,
      "outputs": []
    },
    {
      "cell_type": "code",
      "metadata": {
        "colab": {
          "base_uri": "https://localhost:8080/"
        },
        "id": "ljpk8RFmT5qW",
        "outputId": "e7905693-4f08-43d3-cca9-dc25c9855910"
      },
      "source": [
        "# show coloumn Length_Employed\n",
        "data_full[\"Length_Employed\"].describe()"
      ],
      "execution_count": null,
      "outputs": [
        {
          "output_type": "execute_result",
          "data": {
            "text/plain": [
              "count    273850.000000\n",
              "mean     5.685689     \n",
              "std      3.828297     \n",
              "min     -1.000000     \n",
              "25%      2.000000     \n",
              "50%      6.000000     \n",
              "75%      10.000000    \n",
              "max      10.000000    \n",
              "Name: Length_Employed, dtype: float64"
            ]
          },
          "metadata": {
            "tags": []
          },
          "execution_count": 215
        }
      ]
    },
    {
      "cell_type": "code",
      "metadata": {
        "id": "E5WCYHMKSPrx"
      },
      "source": [
        "# fill in the missing value\n",
        "data_full[\"Home_Owner\"] = data_full[\"Home_Owner\"].fillna(\"Unknown\")"
      ],
      "execution_count": null,
      "outputs": []
    },
    {
      "cell_type": "code",
      "metadata": {
        "colab": {
          "base_uri": "https://localhost:8080/"
        },
        "id": "QBTF_SluV9N2",
        "outputId": "a149f07a-1de9-406d-ae64-5c20f14da541"
      },
      "source": [
        "# show coloumn Home_Owner\n",
        "data_full[\"Home_Owner\"].describe()"
      ],
      "execution_count": null,
      "outputs": [
        {
          "output_type": "execute_result",
          "data": {
            "text/plain": [
              "count     273850  \n",
              "unique    6       \n",
              "top       Mortgage\n",
              "freq      117270  \n",
              "Name: Home_Owner, dtype: object"
            ]
          },
          "metadata": {
            "tags": []
          },
          "execution_count": 217
        }
      ]
    },
    {
      "cell_type": "code",
      "metadata": {
        "id": "2z-OP_YFXoww"
      },
      "source": [
        "# fill in data from float type as float type\n",
        "data_full[\"Annual_Income\"] = data_full[\"Annual_Income\"].fillna(\"-1\")\n",
        "data_full[\"Annual_Income\"] = data_full[\"Annual_Income\"].astype(float)"
      ],
      "execution_count": null,
      "outputs": []
    },
    {
      "cell_type": "code",
      "metadata": {
        "colab": {
          "base_uri": "https://localhost:8080/"
        },
        "id": "rVFgxWhggdvn",
        "outputId": "c21fb2e1-df32-44aa-d926-730d7b22f1dc"
      },
      "source": [
        "# show coloumn Annual_Income\n",
        "data_full[\"Annual_Income\"].describe()"
      ],
      "execution_count": null,
      "outputs": [
        {
          "output_type": "execute_result",
          "data": {
            "text/plain": [
              "count    2.738500e+05\n",
              "mean     6.213649e+04\n",
              "std      5.999816e+04\n",
              "min     -1.000000e+00\n",
              "25%      3.500000e+04\n",
              "50%      5.600000e+04\n",
              "75%      8.200000e+04\n",
              "max      7.500000e+06\n",
              "Name: Annual_Income, dtype: float64"
            ]
          },
          "metadata": {
            "tags": []
          },
          "execution_count": 219
        }
      ]
    },
    {
      "cell_type": "code",
      "metadata": {
        "id": "MnpQuPEKWJFV"
      },
      "source": [
        "# fill in data from float type as float type\n",
        "data_full[\"Months_Since_Deliquency\"] = data_full[\"Months_Since_Deliquency\"].fillna(\"-1\")\n",
        "data_full[\"Months_Since_Deliquency\"] = data_full[\"Months_Since_Deliquency\"].astype(float)"
      ],
      "execution_count": null,
      "outputs": []
    },
    {
      "cell_type": "code",
      "metadata": {
        "colab": {
          "base_uri": "https://localhost:8080/"
        },
        "id": "CgCpcbnjhYJ3",
        "outputId": "5bb064db-fce4-41a2-b064-6c4baacb17af"
      },
      "source": [
        "# show coloumn Months_Since_Deliquency\n",
        "data_full[\"Months_Since_Deliquency\"].describe()"
      ],
      "execution_count": null,
      "outputs": [
        {
          "output_type": "execute_result",
          "data": {
            "text/plain": [
              "count    273850.000000\n",
              "mean     15.229728    \n",
              "std      22.913683    \n",
              "min     -1.000000     \n",
              "25%     -1.000000     \n",
              "50%     -1.000000     \n",
              "75%      28.000000    \n",
              "max      180.000000   \n",
              "Name: Months_Since_Deliquency, dtype: float64"
            ]
          },
          "metadata": {
            "tags": []
          },
          "execution_count": 221
        }
      ]
    },
    {
      "cell_type": "code",
      "metadata": {
        "colab": {
          "base_uri": "https://localhost:8080/",
          "height": 769
        },
        "id": "FMlc1S1je0xt",
        "outputId": "2af48352-656e-441c-e9bb-d04f11ada273"
      },
      "source": [
        "# Visualization data_full with library missingno\n",
        "missingno.matrix(data_full)"
      ],
      "execution_count": null,
      "outputs": [
        {
          "output_type": "execute_result",
          "data": {
            "text/plain": [
              "<matplotlib.axes._subplots.AxesSubplot at 0x7f7f67dd7990>"
            ]
          },
          "metadata": {
            "tags": []
          },
          "execution_count": 222
        },
        {
          "output_type": "display_data",
          "data": {
            "image/png": "[encoded data removed]",
            "text/plain": [
              "<Figure size 1800x720 with 2 Axes>"
            ]
          },
          "metadata": {
            "tags": [],
            "needs_background": "light"
          }
        }
      ]
    },
    {
      "cell_type": "markdown",
      "metadata": {
        "id": "GWV5mGnV-SEu"
      },
      "source": [
        "**categorical cleaning**"
      ]
    },
    {
      "cell_type": "code",
      "metadata": {
        "colab": {
          "base_uri": "https://localhost:8080/"
        },
        "id": "oGawl9rY-Rpk",
        "outputId": "a30ad295-6a21-4d3d-c786-bbadf7497b94"
      },
      "source": [
        "data_full[\"Home_Owner\"].value_counts()"
      ],
      "execution_count": null,
      "outputs": [
        {
          "output_type": "execute_result",
          "data": {
            "text/plain": [
              "Mortgage    117270\n",
              "Rent        93542 \n",
              "Unknown     42060 \n",
              "Own         20879 \n",
              "Other       79    \n",
              "None        20    \n",
              "Name: Home_Owner, dtype: int64"
            ]
          },
          "metadata": {
            "tags": []
          },
          "execution_count": 223
        }
      ]
    },
    {
      "cell_type": "code",
      "metadata": {
        "id": "Wxx6Rweb-r8x"
      },
      "source": [
        "data_full[\"Income_Verified\"] = data_full[\"Income_Verified\"].apply(lambda x: x.split(\"-\")[0])"
      ],
      "execution_count": null,
      "outputs": []
    },
    {
      "cell_type": "code",
      "metadata": {
        "id": "luSvUpvB-0sD"
      },
      "source": [
        "data_full[\"Income_Verified\"] = data_full[\"Income_Verified\"].str.title()"
      ],
      "execution_count": null,
      "outputs": []
    },
    {
      "cell_type": "code",
      "metadata": {
        "colab": {
          "base_uri": "https://localhost:8080/"
        },
        "id": "MyN9v3lB_CKH",
        "outputId": "a966fe2c-3396-400a-ea15-1a8fb98164a0"
      },
      "source": [
        "data_full[\"Income_Verified\"].value_counts()"
      ],
      "execution_count": null,
      "outputs": [
        {
          "output_type": "execute_result",
          "data": {
            "text/plain": [
              "Verified        187329\n",
              "Not Verified    86521 \n",
              "Name: Income_Verified, dtype: int64"
            ]
          },
          "metadata": {
            "tags": []
          },
          "execution_count": 226
        }
      ]
    },
    {
      "cell_type": "markdown",
      "metadata": {
        "id": "6_59f3jS_Mxt"
      },
      "source": [
        "**Encoding**"
      ]
    },
    {
      "cell_type": "code",
      "metadata": {
        "id": "VzlTAVV2_MSg"
      },
      "source": [
        "# for EDA later\n",
        "train_clean_eda = data_full[data_full[\"Interest_Rate\"].isnull()!= True].drop([\"Loan_ID\"], axis=1)"
      ],
      "execution_count": null,
      "outputs": []
    },
    {
      "cell_type": "code",
      "metadata": {
        "colab": {
          "base_uri": "https://localhost:8080/",
          "height": 222
        },
        "id": "Iy3Wuluh_edK",
        "outputId": "4ec6da3f-b99e-4c1c-dd7b-32fa26c05cab"
      },
      "source": [
        "# show 5 data highest\n",
        "train_clean_eda.head()"
      ],
      "execution_count": null,
      "outputs": [
        {
          "output_type": "execute_result",
          "data": {
            "text/html": [
              "<div>\n",
              "<style scoped>\n",
              "    .dataframe tbody tr th:only-of-type {\n",
              "        vertical-align: middle;\n",
              "    }\n",
              "\n",
              "    .dataframe tbody tr th {\n",
              "        vertical-align: top;\n",
              "    }\n",
              "\n",
              "    .dataframe thead th {\n",
              "        text-align: right;\n",
              "    }\n",
              "</style>\n",
              "<table border=\"1\" class=\"dataframe\">\n",
              "  <thead>\n",
              "    <tr style=\"text-align: right;\">\n",
              "      <th></th>\n",
              "      <th>Loan_Amount_Requested</th>\n",
              "      <th>Length_Employed</th>\n",
              "      <th>Home_Owner</th>\n",
              "      <th>Annual_Income</th>\n",
              "      <th>Income_Verified</th>\n",
              "      <th>Purpose_Of_Loan</th>\n",
              "      <th>Debt_To_Income</th>\n",
              "      <th>Inquiries_Last_6Mo</th>\n",
              "      <th>Months_Since_Deliquency</th>\n",
              "      <th>Number_Open_Accounts</th>\n",
              "      <th>Total_Accounts</th>\n",
              "      <th>Gender</th>\n",
              "      <th>Interest_Rate</th>\n",
              "    </tr>\n",
              "  </thead>\n",
              "  <tbody>\n",
              "    <tr>\n",
              "      <th>0</th>\n",
              "      <td>7000.0</td>\n",
              "      <td>0</td>\n",
              "      <td>Rent</td>\n",
              "      <td>68000.0</td>\n",
              "      <td>Not Verified</td>\n",
              "      <td>car</td>\n",
              "      <td>18.37</td>\n",
              "      <td>0</td>\n",
              "      <td>-1.0</td>\n",
              "      <td>9</td>\n",
              "      <td>14</td>\n",
              "      <td>Female</td>\n",
              "      <td>1.0</td>\n",
              "    </tr>\n",
              "    <tr>\n",
              "      <th>1</th>\n",
              "      <td>30000.0</td>\n",
              "      <td>4</td>\n",
              "      <td>Mortgage</td>\n",
              "      <td>-1.0</td>\n",
              "      <td>Verified</td>\n",
              "      <td>debt_consolidation</td>\n",
              "      <td>14.93</td>\n",
              "      <td>0</td>\n",
              "      <td>17.0</td>\n",
              "      <td>12</td>\n",
              "      <td>24</td>\n",
              "      <td>Female</td>\n",
              "      <td>3.0</td>\n",
              "    </tr>\n",
              "    <tr>\n",
              "      <th>2</th>\n",
              "      <td>24725.0</td>\n",
              "      <td>7</td>\n",
              "      <td>Mortgage</td>\n",
              "      <td>75566.4</td>\n",
              "      <td>Verified</td>\n",
              "      <td>debt_consolidation</td>\n",
              "      <td>15.88</td>\n",
              "      <td>0</td>\n",
              "      <td>-1.0</td>\n",
              "      <td>12</td>\n",
              "      <td>16</td>\n",
              "      <td>Male</td>\n",
              "      <td>3.0</td>\n",
              "    </tr>\n",
              "    <tr>\n",
              "      <th>3</th>\n",
              "      <td>16000.0</td>\n",
              "      <td>0</td>\n",
              "      <td>Unknown</td>\n",
              "      <td>56160.0</td>\n",
              "      <td>Verified</td>\n",
              "      <td>debt_consolidation</td>\n",
              "      <td>14.34</td>\n",
              "      <td>3</td>\n",
              "      <td>-1.0</td>\n",
              "      <td>16</td>\n",
              "      <td>22</td>\n",
              "      <td>Male</td>\n",
              "      <td>3.0</td>\n",
              "    </tr>\n",
              "    <tr>\n",
              "      <th>4</th>\n",
              "      <td>17000.0</td>\n",
              "      <td>8</td>\n",
              "      <td>Own</td>\n",
              "      <td>96000.0</td>\n",
              "      <td>Verified</td>\n",
              "      <td>debt_consolidation</td>\n",
              "      <td>22.17</td>\n",
              "      <td>1</td>\n",
              "      <td>-1.0</td>\n",
              "      <td>19</td>\n",
              "      <td>30</td>\n",
              "      <td>Female</td>\n",
              "      <td>1.0</td>\n",
              "    </tr>\n",
              "  </tbody>\n",
              "</table>\n",
              "</div>"
            ],
            "text/plain": [
              "   Loan_Amount_Requested  Length_Employed Home_Owner  Annual_Income  \\\n",
              "0  7000.0                 0                Rent       68000.0         \n",
              "1  30000.0                4                Mortgage  -1.0             \n",
              "2  24725.0                7                Mortgage   75566.4         \n",
              "3  16000.0                0                Unknown    56160.0         \n",
              "4  17000.0                8                Own        96000.0         \n",
              "\n",
              "  Income_Verified     Purpose_Of_Loan  Debt_To_Income  Inquiries_Last_6Mo  \\\n",
              "0  Not Verified    car                 18.37           0                    \n",
              "1  Verified        debt_consolidation  14.93           0                    \n",
              "2  Verified        debt_consolidation  15.88           0                    \n",
              "3  Verified        debt_consolidation  14.34           3                    \n",
              "4  Verified        debt_consolidation  22.17           1                    \n",
              "\n",
              "   Months_Since_Deliquency  Number_Open_Accounts  Total_Accounts  Gender  \\\n",
              "0 -1.0                      9                     14              Female   \n",
              "1  17.0                     12                    24              Female   \n",
              "2 -1.0                      12                    16              Male     \n",
              "3 -1.0                      16                    22              Male     \n",
              "4 -1.0                      19                    30              Female   \n",
              "\n",
              "   Interest_Rate  \n",
              "0  1.0            \n",
              "1  3.0            \n",
              "2  3.0            \n",
              "3  3.0            \n",
              "4  1.0            "
            ]
          },
          "metadata": {
            "tags": []
          },
          "execution_count": 228
        }
      ]
    },
    {
      "cell_type": "code",
      "metadata": {
        "id": "NUIGk7Tv_n6I"
      },
      "source": [
        "# Encoding\n",
        "data_full = pd.get_dummies(data_full)"
      ],
      "execution_count": null,
      "outputs": []
    },
    {
      "cell_type": "code",
      "metadata": {
        "colab": {
          "base_uri": "https://localhost:8080/"
        },
        "id": "jqquMmxP_v9G",
        "outputId": "3ab40e18-4998-4585-ec46-076c08c5de44"
      },
      "source": [
        "# find out row and coloumn from test\n",
        "data_full.shape"
      ],
      "execution_count": null,
      "outputs": [
        {
          "output_type": "execute_result",
          "data": {
            "text/plain": [
              "(273850, 34)"
            ]
          },
          "metadata": {
            "tags": []
          },
          "execution_count": 230
        }
      ]
    },
    {
      "cell_type": "code",
      "metadata": {
        "colab": {
          "base_uri": "https://localhost:8080/",
          "height": 240
        },
        "id": "KT5ey9bs_1T0",
        "outputId": "79831411-87c7-4293-a8ad-fc53a23197dd"
      },
      "source": [
        "# show 5 data highest\n",
        "data_full.head()"
      ],
      "execution_count": null,
      "outputs": [
        {
          "output_type": "execute_result",
          "data": {
            "text/html": [
              "<div>\n",
              "<style scoped>\n",
              "    .dataframe tbody tr th:only-of-type {\n",
              "        vertical-align: middle;\n",
              "    }\n",
              "\n",
              "    .dataframe tbody tr th {\n",
              "        vertical-align: top;\n",
              "    }\n",
              "\n",
              "    .dataframe thead th {\n",
              "        text-align: right;\n",
              "    }\n",
              "</style>\n",
              "<table border=\"1\" class=\"dataframe\">\n",
              "  <thead>\n",
              "    <tr style=\"text-align: right;\">\n",
              "      <th></th>\n",
              "      <th>Loan_ID</th>\n",
              "      <th>Loan_Amount_Requested</th>\n",
              "      <th>Length_Employed</th>\n",
              "      <th>Annual_Income</th>\n",
              "      <th>Debt_To_Income</th>\n",
              "      <th>Inquiries_Last_6Mo</th>\n",
              "      <th>Months_Since_Deliquency</th>\n",
              "      <th>Number_Open_Accounts</th>\n",
              "      <th>Total_Accounts</th>\n",
              "      <th>Interest_Rate</th>\n",
              "      <th>Home_Owner_Mortgage</th>\n",
              "      <th>Home_Owner_None</th>\n",
              "      <th>Home_Owner_Other</th>\n",
              "      <th>Home_Owner_Own</th>\n",
              "      <th>Home_Owner_Rent</th>\n",
              "      <th>Home_Owner_Unknown</th>\n",
              "      <th>Income_Verified_Not Verified</th>\n",
              "      <th>Income_Verified_Verified</th>\n",
              "      <th>Purpose_Of_Loan_car</th>\n",
              "      <th>Purpose_Of_Loan_credit_card</th>\n",
              "      <th>Purpose_Of_Loan_debt_consolidation</th>\n",
              "      <th>Purpose_Of_Loan_educational</th>\n",
              "      <th>Purpose_Of_Loan_home_improvement</th>\n",
              "      <th>Purpose_Of_Loan_house</th>\n",
              "      <th>Purpose_Of_Loan_major_purchase</th>\n",
              "      <th>Purpose_Of_Loan_medical</th>\n",
              "      <th>Purpose_Of_Loan_moving</th>\n",
              "      <th>Purpose_Of_Loan_other</th>\n",
              "      <th>Purpose_Of_Loan_renewable_energy</th>\n",
              "      <th>Purpose_Of_Loan_small_business</th>\n",
              "      <th>Purpose_Of_Loan_vacation</th>\n",
              "      <th>Purpose_Of_Loan_wedding</th>\n",
              "      <th>Gender_Female</th>\n",
              "      <th>Gender_Male</th>\n",
              "    </tr>\n",
              "  </thead>\n",
              "  <tbody>\n",
              "    <tr>\n",
              "      <th>0</th>\n",
              "      <td>10000001</td>\n",
              "      <td>7000.0</td>\n",
              "      <td>0</td>\n",
              "      <td>68000.0</td>\n",
              "      <td>18.37</td>\n",
              "      <td>0</td>\n",
              "      <td>-1.0</td>\n",
              "      <td>9</td>\n",
              "      <td>14</td>\n",
              "      <td>1.0</td>\n",
              "      <td>0</td>\n",
              "      <td>0</td>\n",
              "      <td>0</td>\n",
              "      <td>0</td>\n",
              "      <td>1</td>\n",
              "      <td>0</td>\n",
              "      <td>1</td>\n",
              "      <td>0</td>\n",
              "      <td>1</td>\n",
              "      <td>0</td>\n",
              "      <td>0</td>\n",
              "      <td>0</td>\n",
              "      <td>0</td>\n",
              "      <td>0</td>\n",
              "      <td>0</td>\n",
              "      <td>0</td>\n",
              "      <td>0</td>\n",
              "      <td>0</td>\n",
              "      <td>0</td>\n",
              "      <td>0</td>\n",
              "      <td>0</td>\n",
              "      <td>0</td>\n",
              "      <td>1</td>\n",
              "      <td>0</td>\n",
              "    </tr>\n",
              "    <tr>\n",
              "      <th>1</th>\n",
              "      <td>10000002</td>\n",
              "      <td>30000.0</td>\n",
              "      <td>4</td>\n",
              "      <td>-1.0</td>\n",
              "      <td>14.93</td>\n",
              "      <td>0</td>\n",
              "      <td>17.0</td>\n",
              "      <td>12</td>\n",
              "      <td>24</td>\n",
              "      <td>3.0</td>\n",
              "      <td>1</td>\n",
              "      <td>0</td>\n",
              "      <td>0</td>\n",
              "      <td>0</td>\n",
              "      <td>0</td>\n",
              "      <td>0</td>\n",
              "      <td>0</td>\n",
              "      <td>1</td>\n",
              "      <td>0</td>\n",
              "      <td>0</td>\n",
              "      <td>1</td>\n",
              "      <td>0</td>\n",
              "      <td>0</td>\n",
              "      <td>0</td>\n",
              "      <td>0</td>\n",
              "      <td>0</td>\n",
              "      <td>0</td>\n",
              "      <td>0</td>\n",
              "      <td>0</td>\n",
              "      <td>0</td>\n",
              "      <td>0</td>\n",
              "      <td>0</td>\n",
              "      <td>1</td>\n",
              "      <td>0</td>\n",
              "    </tr>\n",
              "    <tr>\n",
              "      <th>2</th>\n",
              "      <td>10000003</td>\n",
              "      <td>24725.0</td>\n",
              "      <td>7</td>\n",
              "      <td>75566.4</td>\n",
              "      <td>15.88</td>\n",
              "      <td>0</td>\n",
              "      <td>-1.0</td>\n",
              "      <td>12</td>\n",
              "      <td>16</td>\n",
              "      <td>3.0</td>\n",
              "      <td>1</td>\n",
              "      <td>0</td>\n",
              "      <td>0</td>\n",
              "      <td>0</td>\n",
              "      <td>0</td>\n",
              "      <td>0</td>\n",
              "      <td>0</td>\n",
              "      <td>1</td>\n",
              "      <td>0</td>\n",
              "      <td>0</td>\n",
              "      <td>1</td>\n",
              "      <td>0</td>\n",
              "      <td>0</td>\n",
              "      <td>0</td>\n",
              "      <td>0</td>\n",
              "      <td>0</td>\n",
              "      <td>0</td>\n",
              "      <td>0</td>\n",
              "      <td>0</td>\n",
              "      <td>0</td>\n",
              "      <td>0</td>\n",
              "      <td>0</td>\n",
              "      <td>0</td>\n",
              "      <td>1</td>\n",
              "    </tr>\n",
              "    <tr>\n",
              "      <th>3</th>\n",
              "      <td>10000004</td>\n",
              "      <td>16000.0</td>\n",
              "      <td>0</td>\n",
              "      <td>56160.0</td>\n",
              "      <td>14.34</td>\n",
              "      <td>3</td>\n",
              "      <td>-1.0</td>\n",
              "      <td>16</td>\n",
              "      <td>22</td>\n",
              "      <td>3.0</td>\n",
              "      <td>0</td>\n",
              "      <td>0</td>\n",
              "      <td>0</td>\n",
              "      <td>0</td>\n",
              "      <td>0</td>\n",
              "      <td>1</td>\n",
              "      <td>0</td>\n",
              "      <td>1</td>\n",
              "      <td>0</td>\n",
              "      <td>0</td>\n",
              "      <td>1</td>\n",
              "      <td>0</td>\n",
              "      <td>0</td>\n",
              "      <td>0</td>\n",
              "      <td>0</td>\n",
              "      <td>0</td>\n",
              "      <td>0</td>\n",
              "      <td>0</td>\n",
              "      <td>0</td>\n",
              "      <td>0</td>\n",
              "      <td>0</td>\n",
              "      <td>0</td>\n",
              "      <td>0</td>\n",
              "      <td>1</td>\n",
              "    </tr>\n",
              "    <tr>\n",
              "      <th>4</th>\n",
              "      <td>10000005</td>\n",
              "      <td>17000.0</td>\n",
              "      <td>8</td>\n",
              "      <td>96000.0</td>\n",
              "      <td>22.17</td>\n",
              "      <td>1</td>\n",
              "      <td>-1.0</td>\n",
              "      <td>19</td>\n",
              "      <td>30</td>\n",
              "      <td>1.0</td>\n",
              "      <td>0</td>\n",
              "      <td>0</td>\n",
              "      <td>0</td>\n",
              "      <td>1</td>\n",
              "      <td>0</td>\n",
              "      <td>0</td>\n",
              "      <td>0</td>\n",
              "      <td>1</td>\n",
              "      <td>0</td>\n",
              "      <td>0</td>\n",
              "      <td>1</td>\n",
              "      <td>0</td>\n",
              "      <td>0</td>\n",
              "      <td>0</td>\n",
              "      <td>0</td>\n",
              "      <td>0</td>\n",
              "      <td>0</td>\n",
              "      <td>0</td>\n",
              "      <td>0</td>\n",
              "      <td>0</td>\n",
              "      <td>0</td>\n",
              "      <td>0</td>\n",
              "      <td>1</td>\n",
              "      <td>0</td>\n",
              "    </tr>\n",
              "  </tbody>\n",
              "</table>\n",
              "</div>"
            ],
            "text/plain": [
              "    Loan_ID  Loan_Amount_Requested  Length_Employed  Annual_Income  \\\n",
              "0  10000001  7000.0                 0                68000.0         \n",
              "1  10000002  30000.0                4               -1.0             \n",
              "2  10000003  24725.0                7                75566.4         \n",
              "3  10000004  16000.0                0                56160.0         \n",
              "4  10000005  17000.0                8                96000.0         \n",
              "\n",
              "   Debt_To_Income  Inquiries_Last_6Mo  Months_Since_Deliquency  \\\n",
              "0  18.37           0                  -1.0                       \n",
              "1  14.93           0                   17.0                      \n",
              "2  15.88           0                  -1.0                       \n",
              "3  14.34           3                  -1.0                       \n",
              "4  22.17           1                  -1.0                       \n",
              "\n",
              "   Number_Open_Accounts  Total_Accounts  Interest_Rate  Home_Owner_Mortgage  \\\n",
              "0  9                     14              1.0            0                     \n",
              "1  12                    24              3.0            1                     \n",
              "2  12                    16              3.0            1                     \n",
              "3  16                    22              3.0            0                     \n",
              "4  19                    30              1.0            0                     \n",
              "\n",
              "   Home_Owner_None  Home_Owner_Other  Home_Owner_Own  Home_Owner_Rent  \\\n",
              "0  0                0                 0               1                 \n",
              "1  0                0                 0               0                 \n",
              "2  0                0                 0               0                 \n",
              "3  0                0                 0               0                 \n",
              "4  0                0                 1               0                 \n",
              "\n",
              "   Home_Owner_Unknown  Income_Verified_Not Verified  \\\n",
              "0  0                   1                              \n",
              "1  0                   0                              \n",
              "2  0                   0                              \n",
              "3  1                   0                              \n",
              "4  0                   0                              \n",
              "\n",
              "   Income_Verified_Verified   Purpose_Of_Loan_car  \\\n",
              "0  0                          1                     \n",
              "1  1                          0                     \n",
              "2  1                          0                     \n",
              "3  1                          0                     \n",
              "4  1                          0                     \n",
              "\n",
              "   Purpose_Of_Loan_credit_card  Purpose_Of_Loan_debt_consolidation  \\\n",
              "0  0                            0                                    \n",
              "1  0                            1                                    \n",
              "2  0                            1                                    \n",
              "3  0                            1                                    \n",
              "4  0                            1                                    \n",
              "\n",
              "   Purpose_Of_Loan_educational  Purpose_Of_Loan_home_improvement  \\\n",
              "0  0                            0                                  \n",
              "1  0                            0                                  \n",
              "2  0                            0                                  \n",
              "3  0                            0                                  \n",
              "4  0                            0                                  \n",
              "\n",
              "   Purpose_Of_Loan_house  Purpose_Of_Loan_major_purchase  \\\n",
              "0  0                      0                                \n",
              "1  0                      0                                \n",
              "2  0                      0                                \n",
              "3  0                      0                                \n",
              "4  0                      0                                \n",
              "\n",
              "   Purpose_Of_Loan_medical  Purpose_Of_Loan_moving  Purpose_Of_Loan_other  \\\n",
              "0  0                        0                       0                       \n",
              "1  0                        0                       0                       \n",
              "2  0                        0                       0                       \n",
              "3  0                        0                       0                       \n",
              "4  0                        0                       0                       \n",
              "\n",
              "   Purpose_Of_Loan_renewable_energy  Purpose_Of_Loan_small_business  \\\n",
              "0  0                                 0                                \n",
              "1  0                                 0                                \n",
              "2  0                                 0                                \n",
              "3  0                                 0                                \n",
              "4  0                                 0                                \n",
              "\n",
              "   Purpose_Of_Loan_vacation  Purpose_Of_Loan_wedding  Gender_Female  \\\n",
              "0  0                         0                        1               \n",
              "1  0                         0                        1               \n",
              "2  0                         0                        0               \n",
              "3  0                         0                        0               \n",
              "4  0                         0                        1               \n",
              "\n",
              "   Gender_Male  \n",
              "0  0            \n",
              "1  0            \n",
              "2  1            \n",
              "3  1            \n",
              "4  0            "
            ]
          },
          "metadata": {
            "tags": []
          },
          "execution_count": 231
        }
      ]
    },
    {
      "cell_type": "markdown",
      "metadata": {
        "id": "xiUSvIaj8WJg"
      },
      "source": [
        "**Data Visualization**"
      ]
    },
    {
      "cell_type": "code",
      "metadata": {
        "colab": {
          "base_uri": "https://localhost:8080/",
          "height": 604
        },
        "id": "idvThb24v9TP",
        "outputId": "63acf5fc-7022-4771-975a-65492e6953fc"
      },
      "source": [
        "# Data with Visualization\n",
        "plt.figure(figsize=(28,16))\n",
        "plt.subplot(2,3,1)\n",
        "sns.countplot(train['Length_Employed'], hue=train['Interest_Rate'])\n",
        "plt.xticks(rotation=90)\n"
      ],
      "execution_count": null,
      "outputs": [
        {
          "output_type": "stream",
          "text": [
            "/usr/local/lib/python3.7/dist-packages/seaborn/_decorators.py:43: FutureWarning:\n",
            "\n",
            "Pass the following variable as a keyword arg: x. From version 0.12, the only valid positional argument will be `data`, and passing other arguments without an explicit keyword will result in an error or misinterpretation.\n",
            "\n"
          ],
          "name": "stderr"
        },
        {
          "output_type": "execute_result",
          "data": {
            "text/plain": [
              "(array([ 0,  1,  2,  3,  4,  5,  6,  7,  8,  9, 10]),\n",
              " <a list of 11 Text major ticklabel objects>)"
            ]
          },
          "metadata": {
            "tags": []
          },
          "execution_count": 233
        },
        {
          "output_type": "display_data",
          "data": {
            "image/png": "[encoded data removed]",
            "text/plain": [
              "<Figure size 2016x1152 with 1 Axes>"
            ]
          },
          "metadata": {
            "tags": [],
            "needs_background": "light"
          }
        }
      ]
    },
    {
      "cell_type": "code",
      "metadata": {
        "colab": {
          "base_uri": "https://localhost:8080/",
          "height": 568
        },
        "id": "zZgyMRzf2q5S",
        "outputId": "fe1c1f60-ffe8-4ee9-d826-2de30dde5138"
      },
      "source": [
        "# Data with Visualization\n",
        "plt.figure(figsize=(28,16))\n",
        "plt.subplot(2,3,1)\n",
        "sns.countplot(train['Home_Owner'], hue=train['Interest_Rate'])\n",
        "plt.xticks(rotation=90)"
      ],
      "execution_count": null,
      "outputs": [
        {
          "output_type": "stream",
          "text": [
            "/usr/local/lib/python3.7/dist-packages/seaborn/_decorators.py:43: FutureWarning: Pass the following variable as a keyword arg: x. From version 0.12, the only valid positional argument will be `data`, and passing other arguments without an explicit keyword will result in an error or misinterpretation.\n",
            "  FutureWarning\n"
          ],
          "name": "stderr"
        },
        {
          "output_type": "execute_result",
          "data": {
            "text/plain": [
              "(array([0, 1, 2, 3, 4]), <a list of 5 Text major ticklabel objects>)"
            ]
          },
          "metadata": {
            "tags": []
          },
          "execution_count": 70
        },
        {
          "output_type": "display_data",
          "data": {
            "image/png": "[encoded data removed]",
            "text/plain": [
              "<Figure size 2016x1152 with 1 Axes>"
            ]
          },
          "metadata": {
            "tags": [],
            "needs_background": "light"
          }
        }
      ]
    },
    {
      "cell_type": "code",
      "metadata": {
        "colab": {
          "base_uri": "https://localhost:8080/",
          "height": 648
        },
        "id": "Uh2yGYAE6omd",
        "outputId": "95b4a47e-d870-431b-d9b4-2bd5cff1497b"
      },
      "source": [
        "# Data with Visualization\n",
        "plt.figure(figsize=(28,16))\n",
        "plt.subplot(2,3,1)\n",
        "sns.countplot(train['Income_Verified'], hue=train['Interest_Rate'])\n",
        "plt.xticks(rotation=90)"
      ],
      "execution_count": null,
      "outputs": [
        {
          "output_type": "stream",
          "text": [
            "/usr/local/lib/python3.7/dist-packages/seaborn/_decorators.py:43: FutureWarning: Pass the following variable as a keyword arg: x. From version 0.12, the only valid positional argument will be `data`, and passing other arguments without an explicit keyword will result in an error or misinterpretation.\n",
            "  FutureWarning\n"
          ],
          "name": "stderr"
        },
        {
          "output_type": "execute_result",
          "data": {
            "text/plain": [
              "(array([0, 1, 2]), <a list of 3 Text major ticklabel objects>)"
            ]
          },
          "metadata": {
            "tags": []
          },
          "execution_count": 69
        },
        {
          "output_type": "display_data",
          "data": {
            "image/png": "[encoded data removed]",
            "text/plain": [
              "<Figure size 2016x1152 with 1 Axes>"
            ]
          },
          "metadata": {
            "tags": [],
            "needs_background": "light"
          }
        }
      ]
    },
    {
      "cell_type": "code",
      "metadata": {
        "colab": {
          "base_uri": "https://localhost:8080/",
          "height": 637
        },
        "id": "wD-QQ3Jb6_PJ",
        "outputId": "d3d55446-48bd-4a42-d40b-0f45025c5650"
      },
      "source": [
        "# Data with Visualization\n",
        "plt.figure(figsize=(28,16))\n",
        "plt.subplot(2,3,1)\n",
        "sns.countplot(train['Purpose_Of_Loan'], hue=train['Interest_Rate'])\n",
        "plt.xticks(rotation=90)"
      ],
      "execution_count": null,
      "outputs": [
        {
          "output_type": "stream",
          "text": [
            "/usr/local/lib/python3.7/dist-packages/seaborn/_decorators.py:43: FutureWarning: Pass the following variable as a keyword arg: x. From version 0.12, the only valid positional argument will be `data`, and passing other arguments without an explicit keyword will result in an error or misinterpretation.\n",
            "  FutureWarning\n"
          ],
          "name": "stderr"
        },
        {
          "output_type": "execute_result",
          "data": {
            "text/plain": [
              "(array([ 0,  1,  2,  3,  4,  5,  6,  7,  8,  9, 10, 11, 12, 13]),\n",
              " <a list of 14 Text major ticklabel objects>)"
            ]
          },
          "metadata": {
            "tags": []
          },
          "execution_count": 68
        },
        {
          "output_type": "display_data",
          "data": {
            "image/png": "[encoded data removed]",
            "text/plain": [
              "<Figure size 2016x1152 with 1 Axes>"
            ]
          },
          "metadata": {
            "tags": [],
            "needs_background": "light"
          }
        }
      ]
    },
    {
      "cell_type": "code",
      "metadata": {
        "colab": {
          "base_uri": "https://localhost:8080/",
          "height": 554
        },
        "id": "Kh72XRwj8LgW",
        "outputId": "be556153-0564-48a9-bbd9-8a6a6fca31e0"
      },
      "source": [
        "# Data with Visualization\n",
        "plt.figure(figsize=(28,16))\n",
        "plt.subplot(2,3,1)\n",
        "sns.countplot(train['Gender'], hue=train['Interest_Rate'])\n",
        "plt.xticks(rotation=90)"
      ],
      "execution_count": null,
      "outputs": [
        {
          "output_type": "stream",
          "text": [
            "/usr/local/lib/python3.7/dist-packages/seaborn/_decorators.py:43: FutureWarning: Pass the following variable as a keyword arg: x. From version 0.12, the only valid positional argument will be `data`, and passing other arguments without an explicit keyword will result in an error or misinterpretation.\n",
            "  FutureWarning\n"
          ],
          "name": "stderr"
        },
        {
          "output_type": "execute_result",
          "data": {
            "text/plain": [
              "(array([0, 1]), <a list of 2 Text major ticklabel objects>)"
            ]
          },
          "metadata": {
            "tags": []
          },
          "execution_count": 72
        },
        {
          "output_type": "display_data",
          "data": {
            "image/png": "[encoded data removed]",
            "text/plain": [
              "<Figure size 2016x1152 with 1 Axes>"
            ]
          },
          "metadata": {
            "tags": [],
            "needs_background": "light"
          }
        }
      ]
    },
    {
      "cell_type": "markdown",
      "metadata": {
        "id": "Y9BLiBEOT-_V"
      },
      "source": [
        "Train Test Split"
      ]
    },
    {
      "cell_type": "code",
      "metadata": {
        "colab": {
          "base_uri": "https://localhost:8080/",
          "height": 165
        },
        "id": "hFDmFriRULws",
        "outputId": "ce947497-c765-48c5-8522-f712b615e441"
      },
      "source": [
        "# show data_full\n",
        "data_full.head()"
      ],
      "execution_count": null,
      "outputs": [
        {
          "output_type": "error",
          "ename": "NameError",
          "evalue": "ignored",
          "traceback": [
            "\u001b[0;31m---------------------------------------------------------------------------\u001b[0m",
            "\u001b[0;31mNameError\u001b[0m                                 Traceback (most recent call last)",
            "\u001b[0;32m<ipython-input-1-c5ce2a8a80f4>\u001b[0m in \u001b[0;36m<module>\u001b[0;34m()\u001b[0m\n\u001b[0;32m----> 1\u001b[0;31m \u001b[0mdata_full\u001b[0m\u001b[0;34m.\u001b[0m\u001b[0mhead\u001b[0m\u001b[0;34m(\u001b[0m\u001b[0;34m)\u001b[0m\u001b[0;34m\u001b[0m\u001b[0;34m\u001b[0m\u001b[0m\n\u001b[0m",
            "\u001b[0;31mNameError\u001b[0m: name 'data_full' is not defined"
          ]
        }
      ]
    },
    {
      "cell_type": "code",
      "metadata": {
        "colab": {
          "base_uri": "https://localhost:8080/"
        },
        "id": "-Cpu2lR8UZsT",
        "outputId": "26e921a8-eff1-42c5-f89e-96b91c039817"
      },
      "source": [
        "# removing the target column Interest_Rate from dataset and assigning to X\n",
        "X = data_full[data_full[\"Interest_Rate\"].isnull() != True].drop([\"Loan_ID\", \"Interest_Rate\"], axis=1)\n",
        "# assigning the target column Interest_Rate to y\n",
        "y = data_full[data_full[\"Interest_Rate\"].isnull() != True][\"Interest_Rate\"]\n",
        "\n",
        "# removing the target column Interest_Rate from dataset and assigning to X\n",
        "X_test = data_full[data_full[\"Interest_Rate\"].isnull() == True].drop([\"Loan_ID\", \"Interest_Rate\"], axis=1)\n",
        "\n",
        "# checking the shapes\n",
        "print(X.shape)\n",
        "print(y.shape)\n",
        "print(X_test.shape)"
      ],
      "execution_count": null,
      "outputs": [
        {
          "output_type": "stream",
          "text": [
            "(164309, 32)\n",
            "(164309,)\n",
            "(109541, 32)\n"
          ],
          "name": "stdout"
        }
      ]
    },
    {
      "cell_type": "code",
      "metadata": {
        "colab": {
          "base_uri": "https://localhost:8080/"
        },
        "id": "Pawcf72YUt3p",
        "outputId": "89405ce5-2e48-4893-c4a6-d9669a75d608"
      },
      "source": [
        "# These are the class weights for each class\n",
        "class_1 =(len(y) - len(y[y==1]))/len(y)\n",
        "class_2 =(len(y) - len(y[y==2]))/len(y)\n",
        "class_3 =(len(y) - len(y[y==3]))/len(y)\n",
        "print(class_1,class_2,class_3)"
      ],
      "execution_count": null,
      "outputs": [
        {
          "output_type": "stream",
          "text": [
            "0.7942535101546476 0.5704434936613332 0.6353029961840191\n"
          ],
          "name": "stdout"
        }
      ]
    },
    {
      "cell_type": "code",
      "metadata": {
        "id": "n37pjD82Uzvk"
      },
      "source": [
        "# its better to give a highter weight than the weight calculated. The idea is that model should know that class 2 is abundent.\n",
        "weight = {1: '0.79', 2: '0.65', 3: '0.68'}"
      ],
      "execution_count": null,
      "outputs": []
    },
    {
      "cell_type": "code",
      "metadata": {
        "id": "JjPE6WjIU1aZ"
      },
      "source": [
        "X_train, X_val, y_train, y_val = train_test_split(X, y, test_size=0.2, random_state=101)"
      ],
      "execution_count": null,
      "outputs": []
    },
    {
      "cell_type": "markdown",
      "metadata": {
        "id": "R-_KN-_ZunqQ"
      },
      "source": [
        "# C. modeling"
      ]
    },
    {
      "cell_type": "markdown",
      "metadata": {
        "id": "9LOG2iLVTcW5"
      },
      "source": [
        "A.  XGBoost"
      ]
    },
    {
      "cell_type": "code",
      "metadata": {
        "colab": {
          "base_uri": "https://localhost:8080/"
        },
        "id": "nwWMvS1ZUHs2",
        "outputId": "ddb0a3a3-12fc-4adc-d44a-b92248fcbef4"
      },
      "source": [
        "err_xgb = []\n",
        "y_pred_tot_xgb = []\n",
        "\n",
        "fold = StratifiedKFold(n_splits=5, shuffle=True, random_state=101)\n",
        "i = 1\n",
        "for train_index, test_index in fold.split(X, y):\n",
        "    X_train, X_val = X.iloc[train_index], X.iloc[test_index]\n",
        "    y_train, y_val = y[train_index], y[test_index]\n",
        "    m = XGBClassifier(boosting_type=\"gbdt\",\n",
        "                      max_depth=5,\n",
        "                      class_weight = weight,\n",
        "                      learning_rate=0.07,\n",
        "                      n_estimators=5000,\n",
        "                      random_state=101)\n",
        "    m.fit(X_train, y_train,\n",
        "          eval_set=[(X_train, y_train), (X_val, y_val)],\n",
        "          early_stopping_rounds=100,\n",
        "          verbose=200)\n",
        "    pred_y = m.predict_proba(X_val)\n",
        "    print(\"err_xgb: \", f1_score(y_pred=[np.argmax(x) for x in pred_y], y_true=y_val, average='weighted'))\n",
        "    err_xgb.append(f1_score(y_pred=[np.argmax(x) for x in pred_y],y_true=y_val,average='weighted'))\n",
        "    pred_test = m.predict_proba(X_test)\n",
        "    i = i + 1\n",
        "    y_pred_tot_xgb.append(pred_test)"
      ],
      "execution_count": null,
      "outputs": [
        {
          "output_type": "stream",
          "text": [
            "[0]\tvalidation_0-merror:0.493484\tvalidation_1-merror:0.498935\n",
            "Multiple eval metrics have been passed: 'validation_1-merror' will be used for early stopping.\n",
            "\n",
            "Will train until validation_1-merror hasn't improved in 100 rounds.\n",
            "[200]\tvalidation_0-merror:0.442696\tvalidation_1-merror:0.461993\n",
            "[400]\tvalidation_0-merror:0.428112\tvalidation_1-merror:0.460136\n",
            "[600]\tvalidation_0-merror:0.417355\tvalidation_1-merror:0.459832\n",
            "Stopping. Best iteration:\n",
            "[522]\tvalidation_0-merror:0.421113\tvalidation_1-merror:0.458493\n",
            "\n",
            "err_xgb:  0.1987961287131575\n",
            "[0]\tvalidation_0-merror:0.491369\tvalidation_1-merror:0.496653\n",
            "Multiple eval metrics have been passed: 'validation_1-merror' will be used for early stopping.\n",
            "\n",
            "Will train until validation_1-merror hasn't improved in 100 rounds.\n",
            "[200]\tvalidation_0-merror:0.44354\tvalidation_1-merror:0.464792\n",
            "[400]\tvalidation_0-merror:0.428949\tvalidation_1-merror:0.460441\n",
            "Stopping. Best iteration:\n",
            "[404]\tvalidation_0-merror:0.428941\tvalidation_1-merror:0.46038\n",
            "\n",
            "err_xgb:  0.19665659994248044\n",
            "[0]\tvalidation_0-merror:0.496048\tvalidation_1-merror:0.494736\n",
            "Multiple eval metrics have been passed: 'validation_1-merror' will be used for early stopping.\n",
            "\n",
            "Will train until validation_1-merror hasn't improved in 100 rounds.\n",
            "[200]\tvalidation_0-merror:0.443494\tvalidation_1-merror:0.463605\n",
            "[400]\tvalidation_0-merror:0.428956\tvalidation_1-merror:0.460136\n",
            "[600]\tvalidation_0-merror:0.416837\tvalidation_1-merror:0.45825\n",
            "Stopping. Best iteration:\n",
            "[661]\tvalidation_0-merror:0.413368\tvalidation_1-merror:0.457702\n",
            "\n",
            "err_xgb:  0.1955201124633898\n",
            "[0]\tvalidation_0-merror:0.494389\tvalidation_1-merror:0.501065\n",
            "Multiple eval metrics have been passed: 'validation_1-merror' will be used for early stopping.\n",
            "\n",
            "Will train until validation_1-merror hasn't improved in 100 rounds.\n",
            "[200]\tvalidation_0-merror:0.443669\tvalidation_1-merror:0.463392\n",
            "[400]\tvalidation_0-merror:0.429664\tvalidation_1-merror:0.460228\n",
            "Stopping. Best iteration:\n",
            "[339]\tvalidation_0-merror:0.433429\tvalidation_1-merror:0.45901\n",
            "\n",
            "err_xgb:  0.19730569360322772\n",
            "[0]\tvalidation_0-merror:0.496402\tvalidation_1-merror:0.498463\n",
            "Multiple eval metrics have been passed: 'validation_1-merror' will be used for early stopping.\n",
            "\n",
            "Will train until validation_1-merror hasn't improved in 100 rounds.\n",
            "[200]\tvalidation_0-merror:0.444906\tvalidation_1-merror:0.45802\n",
            "[400]\tvalidation_0-merror:0.430649\tvalidation_1-merror:0.455616\n",
            "Stopping. Best iteration:\n",
            "[401]\tvalidation_0-merror:0.430657\tvalidation_1-merror:0.455525\n",
            "\n",
            "err_xgb:  0.19509644399131246\n"
          ],
          "name": "stdout"
        }
      ]
    },
    {
      "cell_type": "code",
      "metadata": {
        "colab": {
          "base_uri": "https://localhost:8080/"
        },
        "id": "OQ0zOfmnLgnH",
        "outputId": "5196a29d-c862-4656-afb0-b9306e240624"
      },
      "source": [
        "print(\"The Average Error: {}\".format(np.mean(err_xgb,0)))"
      ],
      "execution_count": null,
      "outputs": [
        {
          "output_type": "stream",
          "text": [
            "The Average Error: 0.19667499574271358\n"
          ],
          "name": "stdout"
        }
      ]
    },
    {
      "cell_type": "markdown",
      "metadata": {
        "id": "2Nrh7uB4SgJ9"
      },
      "source": [
        "B. CatBoost"
      ]
    },
    {
      "cell_type": "code",
      "metadata": {
        "colab": {
          "base_uri": "https://localhost:8080/"
        },
        "id": "qBDXNC0-L1tC",
        "outputId": "61bf7aa9-6119-4f27-d2c5-36a3704edab4"
      },
      "source": [
        "err_CB = []\n",
        "y_pred_tot_cb = []\n",
        "\n",
        "fold = StratifiedKFold(n_splits=5, shuffle=True, random_state=101)\n",
        "i = 1\n",
        "for train_index, test_index in fold.split(X, y):\n",
        "    X_train, X_val = X.iloc[train_index], X.iloc[test_index]\n",
        "    y_train, y_val = y[train_index], y[test_index]\n",
        "    m = CatBoostClassifier(n_estimators=5000,\n",
        "                           random_state=101,\n",
        "                           learning_rate=0.03, \n",
        "                           max_depth=5)\n",
        "    m.fit(X_train, y_train,\n",
        "          eval_set=[(X_train, y_train), (X_val, y_val)],\n",
        "          early_stopping_rounds=200,\n",
        "          verbose=200)\n",
        "    pred_y = m.predict_proba(X_val)\n",
        "    print(\"err_cb: \", f1_score(y_pred=[np.argmax(x) for x in pred_y], y_true=y_val, average='weighted'))\n",
        "    err_CB.append(f1_score(y_pred=[np.argmax(x) for x in pred_y], y_true=y_val, average='weighted'))\n",
        "    pred_test = m.predict_proba(X_test)\n",
        "    i = i + 1\n",
        "    y_pred_tot_cb.append(pred_test)"
      ],
      "execution_count": null,
      "outputs": [
        {
          "output_type": "stream",
          "text": [
            "0:\tlearn: 1.0931576\ttest: 1.0931576\ttest1: 1.0932065\tbest: 1.0932065 (0)\ttotal: 141ms\tremaining: 11m 46s\n",
            "200:\tlearn: 0.9425481\ttest: 0.9425481\ttest1: 0.9451482\tbest: 0.9451482 (200)\ttotal: 16.6s\tremaining: 6m 37s\n",
            "400:\tlearn: 0.9301626\ttest: 0.9301626\ttest1: 0.9347169\tbest: 0.9347169 (400)\ttotal: 32.7s\tremaining: 6m 15s\n",
            "600:\tlearn: 0.9229309\ttest: 0.9229309\ttest1: 0.9292833\tbest: 0.9292833 (600)\ttotal: 48.7s\tremaining: 5m 56s\n",
            "800:\tlearn: 0.9184301\ttest: 0.9184301\ttest1: 0.9267472\tbest: 0.9267472 (800)\ttotal: 1m 4s\tremaining: 5m 38s\n",
            "1000:\tlearn: 0.9148562\ttest: 0.9148562\ttest1: 0.9248465\tbest: 0.9248465 (1000)\ttotal: 1m 20s\tremaining: 5m 21s\n",
            "1200:\tlearn: 0.9118885\ttest: 0.9118885\ttest1: 0.9235774\tbest: 0.9235774 (1200)\ttotal: 1m 36s\tremaining: 5m 5s\n",
            "1400:\tlearn: 0.9092513\ttest: 0.9092513\ttest1: 0.9226702\tbest: 0.9226702 (1400)\ttotal: 1m 52s\tremaining: 4m 49s\n",
            "1600:\tlearn: 0.9068788\ttest: 0.9068788\ttest1: 0.9218823\tbest: 0.9218823 (1600)\ttotal: 2m 8s\tremaining: 4m 33s\n",
            "1800:\tlearn: 0.9046493\ttest: 0.9046493\ttest1: 0.9212232\tbest: 0.9212178 (1796)\ttotal: 2m 24s\tremaining: 4m 16s\n",
            "2000:\tlearn: 0.9026312\ttest: 0.9026312\ttest1: 0.9207405\tbest: 0.9207405 (2000)\ttotal: 2m 40s\tremaining: 4m\n",
            "2200:\tlearn: 0.9006649\ttest: 0.9006649\ttest1: 0.9203137\tbest: 0.9203137 (2200)\ttotal: 2m 56s\tremaining: 3m 44s\n",
            "2400:\tlearn: 0.8988027\ttest: 0.8988027\ttest1: 0.9200046\tbest: 0.9199990 (2386)\ttotal: 3m 12s\tremaining: 3m 28s\n",
            "2600:\tlearn: 0.8970464\ttest: 0.8970464\ttest1: 0.9198725\tbest: 0.9198683 (2597)\ttotal: 3m 28s\tremaining: 3m 12s\n",
            "2800:\tlearn: 0.8952779\ttest: 0.8952779\ttest1: 0.9196244\tbest: 0.9196244 (2800)\ttotal: 3m 44s\tremaining: 2m 56s\n",
            "3000:\tlearn: 0.8936229\ttest: 0.8936229\ttest1: 0.9193959\tbest: 0.9193856 (2998)\ttotal: 4m\tremaining: 2m 40s\n",
            "3200:\tlearn: 0.8919680\ttest: 0.8919680\ttest1: 0.9192143\tbest: 0.9192101 (3198)\ttotal: 4m 17s\tremaining: 2m 24s\n",
            "3400:\tlearn: 0.8903976\ttest: 0.8903976\ttest1: 0.9190687\tbest: 0.9190674 (3398)\ttotal: 4m 33s\tremaining: 2m 8s\n",
            "3600:\tlearn: 0.8888186\ttest: 0.8888186\ttest1: 0.9189559\tbest: 0.9189559 (3600)\ttotal: 4m 49s\tremaining: 1m 52s\n",
            "3800:\tlearn: 0.8873140\ttest: 0.8873140\ttest1: 0.9188601\tbest: 0.9188584 (3778)\ttotal: 5m 5s\tremaining: 1m 36s\n",
            "4000:\tlearn: 0.8857859\ttest: 0.8857859\ttest1: 0.9187616\tbest: 0.9187443 (3993)\ttotal: 5m 21s\tremaining: 1m 20s\n",
            "4200:\tlearn: 0.8842894\ttest: 0.8842894\ttest1: 0.9187235\tbest: 0.9187214 (4190)\ttotal: 5m 37s\tremaining: 1m 4s\n",
            "4400:\tlearn: 0.8828423\ttest: 0.8828423\ttest1: 0.9186858\tbest: 0.9186554 (4363)\ttotal: 5m 54s\tremaining: 48.2s\n",
            "4600:\tlearn: 0.8814541\ttest: 0.8814541\ttest1: 0.9186119\tbest: 0.9185951 (4562)\ttotal: 6m 10s\tremaining: 32.1s\n",
            "Stopped by overfitting detector  (200 iterations wait)\n",
            "\n",
            "bestTest = 0.9185950925\n",
            "bestIteration = 4562\n",
            "\n",
            "Shrink model to first 4563 iterations.\n",
            "err_cb:  0.19715275971146046\n",
            "0:\tlearn: 1.0930958\ttest: 1.0930958\ttest1: 1.0931005\tbest: 1.0931005 (0)\ttotal: 80.2ms\tremaining: 6m 40s\n",
            "200:\tlearn: 0.9418200\ttest: 0.9418200\ttest1: 0.9465343\tbest: 0.9465343 (200)\ttotal: 16s\tremaining: 6m 20s\n",
            "400:\tlearn: 0.9296274\ttest: 0.9296274\ttest1: 0.9362907\tbest: 0.9362907 (400)\ttotal: 31.6s\tremaining: 6m 1s\n",
            "600:\tlearn: 0.9223610\ttest: 0.9223610\ttest1: 0.9308581\tbest: 0.9308581 (600)\ttotal: 46.9s\tremaining: 5m 43s\n",
            "800:\tlearn: 0.9176988\ttest: 0.9176988\ttest1: 0.9282252\tbest: 0.9282252 (800)\ttotal: 1m 2s\tremaining: 5m 26s\n",
            "1000:\tlearn: 0.9141982\ttest: 0.9141982\ttest1: 0.9266049\tbest: 0.9266049 (1000)\ttotal: 1m 18s\tremaining: 5m 11s\n",
            "1200:\tlearn: 0.9112939\ttest: 0.9112939\ttest1: 0.9253075\tbest: 0.9253075 (1200)\ttotal: 1m 34s\tremaining: 4m 57s\n",
            "1400:\tlearn: 0.9087713\ttest: 0.9087713\ttest1: 0.9244370\tbest: 0.9244370 (1400)\ttotal: 1m 49s\tremaining: 4m 42s\n",
            "1600:\tlearn: 0.9065079\ttest: 0.9065079\ttest1: 0.9239123\tbest: 0.9239029 (1595)\ttotal: 2m 5s\tremaining: 4m 26s\n",
            "1800:\tlearn: 0.9043287\ttest: 0.9043287\ttest1: 0.9234243\tbest: 0.9234199 (1799)\ttotal: 2m 21s\tremaining: 4m 11s\n",
            "2000:\tlearn: 0.9021789\ttest: 0.9021789\ttest1: 0.9228103\tbest: 0.9228103 (2000)\ttotal: 2m 37s\tremaining: 3m 56s\n",
            "2200:\tlearn: 0.9002462\ttest: 0.9002462\ttest1: 0.9224691\tbest: 0.9224691 (2200)\ttotal: 2m 53s\tremaining: 3m 40s\n",
            "2400:\tlearn: 0.8984455\ttest: 0.8984455\ttest1: 0.9222274\tbest: 0.9222274 (2400)\ttotal: 3m 9s\tremaining: 3m 25s\n",
            "2600:\tlearn: 0.8966653\ttest: 0.8966653\ttest1: 0.9220000\tbest: 0.9219976 (2599)\ttotal: 3m 25s\tremaining: 3m 9s\n",
            "2800:\tlearn: 0.8948959\ttest: 0.8948959\ttest1: 0.9218205\tbest: 0.9217986 (2777)\ttotal: 3m 41s\tremaining: 2m 54s\n",
            "3000:\tlearn: 0.8931151\ttest: 0.8931151\ttest1: 0.9217189\tbest: 0.9217022 (2964)\ttotal: 3m 57s\tremaining: 2m 38s\n",
            "3200:\tlearn: 0.8914891\ttest: 0.8914891\ttest1: 0.9215918\tbest: 0.9215916 (3199)\ttotal: 4m 14s\tremaining: 2m 22s\n",
            "3400:\tlearn: 0.8899504\ttest: 0.8899504\ttest1: 0.9215025\tbest: 0.9215005 (3398)\ttotal: 4m 30s\tremaining: 2m 7s\n",
            "3600:\tlearn: 0.8883863\ttest: 0.8883863\ttest1: 0.9214549\tbest: 0.9214526 (3597)\ttotal: 4m 46s\tremaining: 1m 51s\n",
            "3800:\tlearn: 0.8867884\ttest: 0.8867884\ttest1: 0.9214248\tbest: 0.9213990 (3694)\ttotal: 5m 2s\tremaining: 1m 35s\n",
            "Stopped by overfitting detector  (200 iterations wait)\n",
            "\n",
            "bestTest = 0.9213989502\n",
            "bestIteration = 3694\n",
            "\n",
            "Shrink model to first 3695 iterations.\n",
            "err_cb:  0.19662186048072516\n",
            "0:\tlearn: 1.0930515\ttest: 1.0930515\ttest1: 1.0929221\tbest: 1.0929221 (0)\ttotal: 81.3ms\tremaining: 6m 46s\n",
            "200:\tlearn: 0.9425408\ttest: 0.9425408\ttest1: 0.9432756\tbest: 0.9432756 (200)\ttotal: 16.7s\tremaining: 6m 39s\n",
            "400:\tlearn: 0.9300997\ttest: 0.9300997\ttest1: 0.9330475\tbest: 0.9330475 (400)\ttotal: 32.8s\tremaining: 6m 16s\n",
            "600:\tlearn: 0.9229319\ttest: 0.9229319\ttest1: 0.9283806\tbest: 0.9283806 (600)\ttotal: 48.9s\tremaining: 5m 57s\n",
            "800:\tlearn: 0.9183914\ttest: 0.9183914\ttest1: 0.9259112\tbest: 0.9259112 (800)\ttotal: 1m 4s\tremaining: 5m 40s\n",
            "1000:\tlearn: 0.9147744\ttest: 0.9147744\ttest1: 0.9243394\tbest: 0.9243394 (1000)\ttotal: 1m 21s\tremaining: 5m 23s\n",
            "1200:\tlearn: 0.9117346\ttest: 0.9117346\ttest1: 0.9233262\tbest: 0.9233262 (1200)\ttotal: 1m 37s\tremaining: 5m 7s\n",
            "1400:\tlearn: 0.9092103\ttest: 0.9092103\ttest1: 0.9225585\tbest: 0.9225585 (1400)\ttotal: 1m 53s\tremaining: 4m 50s\n",
            "1600:\tlearn: 0.9067430\ttest: 0.9067430\ttest1: 0.9219034\tbest: 0.9219034 (1600)\ttotal: 2m 9s\tremaining: 4m 34s\n",
            "1800:\tlearn: 0.9046244\ttest: 0.9046244\ttest1: 0.9215531\tbest: 0.9215531 (1800)\ttotal: 2m 25s\tremaining: 4m 18s\n",
            "2000:\tlearn: 0.9025886\ttest: 0.9025886\ttest1: 0.9211853\tbest: 0.9211853 (2000)\ttotal: 2m 41s\tremaining: 4m 2s\n",
            "2200:\tlearn: 0.9005981\ttest: 0.9005981\ttest1: 0.9208223\tbest: 0.9208201 (2199)\ttotal: 2m 57s\tremaining: 3m 45s\n",
            "2400:\tlearn: 0.8987304\ttest: 0.8987304\ttest1: 0.9205478\tbest: 0.9205442 (2392)\ttotal: 3m 13s\tremaining: 3m 29s\n",
            "2600:\tlearn: 0.8969385\ttest: 0.8969385\ttest1: 0.9202965\tbest: 0.9202828 (2590)\ttotal: 3m 29s\tremaining: 3m 13s\n",
            "2800:\tlearn: 0.8952309\ttest: 0.8952309\ttest1: 0.9202368\tbest: 0.9202368 (2800)\ttotal: 3m 46s\tremaining: 2m 57s\n",
            "3000:\tlearn: 0.8934743\ttest: 0.8934743\ttest1: 0.9201114\tbest: 0.9201061 (2998)\ttotal: 4m 2s\tremaining: 2m 41s\n",
            "3200:\tlearn: 0.8917917\ttest: 0.8917917\ttest1: 0.9200712\tbest: 0.9200279 (3117)\ttotal: 4m 18s\tremaining: 2m 25s\n",
            "3400:\tlearn: 0.8901946\ttest: 0.8901946\ttest1: 0.9199958\tbest: 0.9199836 (3351)\ttotal: 4m 34s\tremaining: 2m 9s\n",
            "3600:\tlearn: 0.8885973\ttest: 0.8885973\ttest1: 0.9199020\tbest: 0.9198888 (3539)\ttotal: 4m 51s\tremaining: 1m 53s\n",
            "3800:\tlearn: 0.8869584\ttest: 0.8869584\ttest1: 0.9198542\tbest: 0.9198483 (3792)\ttotal: 5m 7s\tremaining: 1m 36s\n",
            "4000:\tlearn: 0.8854255\ttest: 0.8854255\ttest1: 0.9198173\tbest: 0.9198019 (3968)\ttotal: 5m 23s\tremaining: 1m 20s\n",
            "4200:\tlearn: 0.8839827\ttest: 0.8839827\ttest1: 0.9198032\tbest: 0.9197964 (4043)\ttotal: 5m 39s\tremaining: 1m 4s\n",
            "Stopped by overfitting detector  (200 iterations wait)\n",
            "\n",
            "bestTest = 0.9197964243\n",
            "bestIteration = 4043\n",
            "\n",
            "Shrink model to first 4044 iterations.\n",
            "err_cb:  0.19753471000859557\n",
            "0:\tlearn: 1.0930875\ttest: 1.0930875\ttest1: 1.0931297\tbest: 1.0931297 (0)\ttotal: 79ms\tremaining: 6m 34s\n",
            "200:\tlearn: 0.9423624\ttest: 0.9423624\ttest1: 0.9450370\tbest: 0.9450370 (200)\ttotal: 16.3s\tremaining: 6m 30s\n",
            "400:\tlearn: 0.9302922\ttest: 0.9302922\ttest1: 0.9342002\tbest: 0.9342002 (400)\ttotal: 32.2s\tremaining: 6m 9s\n",
            "600:\tlearn: 0.9229296\ttest: 0.9229296\ttest1: 0.9286110\tbest: 0.9286110 (600)\ttotal: 47.9s\tremaining: 5m 50s\n",
            "800:\tlearn: 0.9183931\ttest: 0.9183931\ttest1: 0.9258728\tbest: 0.9258728 (800)\ttotal: 1m 3s\tremaining: 5m 34s\n",
            "1000:\tlearn: 0.9149929\ttest: 0.9149929\ttest1: 0.9241888\tbest: 0.9241888 (1000)\ttotal: 1m 19s\tremaining: 5m 19s\n",
            "1200:\tlearn: 0.9122083\ttest: 0.9122083\ttest1: 0.9230211\tbest: 0.9230150 (1199)\ttotal: 1m 36s\tremaining: 5m 3s\n",
            "1400:\tlearn: 0.9096515\ttest: 0.9096515\ttest1: 0.9221787\tbest: 0.9221787 (1400)\ttotal: 1m 52s\tremaining: 4m 48s\n",
            "1600:\tlearn: 0.9072131\ttest: 0.9072131\ttest1: 0.9213716\tbest: 0.9213672 (1599)\ttotal: 2m 8s\tremaining: 4m 32s\n",
            "1800:\tlearn: 0.9050218\ttest: 0.9050218\ttest1: 0.9206456\tbest: 0.9206456 (1800)\ttotal: 2m 24s\tremaining: 4m 16s\n",
            "2000:\tlearn: 0.9029666\ttest: 0.9029666\ttest1: 0.9201100\tbest: 0.9201085 (1999)\ttotal: 2m 39s\tremaining: 3m 59s\n",
            "2200:\tlearn: 0.9009849\ttest: 0.9009849\ttest1: 0.9197608\tbest: 0.9197587 (2197)\ttotal: 2m 55s\tremaining: 3m 43s\n",
            "2400:\tlearn: 0.8991528\ttest: 0.8991528\ttest1: 0.9194418\tbest: 0.9194403 (2399)\ttotal: 3m 11s\tremaining: 3m 27s\n",
            "2600:\tlearn: 0.8973964\ttest: 0.8973964\ttest1: 0.9191645\tbest: 0.9191637 (2586)\ttotal: 3m 27s\tremaining: 3m 11s\n",
            "2800:\tlearn: 0.8957323\ttest: 0.8957323\ttest1: 0.9189839\tbest: 0.9189718 (2779)\ttotal: 3m 43s\tremaining: 2m 55s\n",
            "3000:\tlearn: 0.8940178\ttest: 0.8940178\ttest1: 0.9187073\tbest: 0.9187073 (3000)\ttotal: 3m 59s\tremaining: 2m 39s\n",
            "3200:\tlearn: 0.8923286\ttest: 0.8923286\ttest1: 0.9186043\tbest: 0.9186043 (3200)\ttotal: 4m 15s\tremaining: 2m 23s\n",
            "3400:\tlearn: 0.8907436\ttest: 0.8907436\ttest1: 0.9184201\tbest: 0.9184136 (3387)\ttotal: 4m 31s\tremaining: 2m 7s\n",
            "3600:\tlearn: 0.8890974\ttest: 0.8890974\ttest1: 0.9183045\tbest: 0.9182999 (3594)\ttotal: 4m 47s\tremaining: 1m 51s\n",
            "3800:\tlearn: 0.8875279\ttest: 0.8875279\ttest1: 0.9182290\tbest: 0.9182030 (3776)\ttotal: 5m 4s\tremaining: 1m 35s\n",
            "4000:\tlearn: 0.8859775\ttest: 0.8859775\ttest1: 0.9181245\tbest: 0.9180986 (3954)\ttotal: 5m 20s\tremaining: 1m 19s\n",
            "Stopped by overfitting detector  (200 iterations wait)\n",
            "\n",
            "bestTest = 0.9180985565\n",
            "bestIteration = 3954\n",
            "\n",
            "Shrink model to first 3955 iterations.\n",
            "err_cb:  0.1951169069216095\n",
            "0:\tlearn: 1.0930936\ttest: 1.0930936\ttest1: 1.0931423\tbest: 1.0931423 (0)\ttotal: 80.6ms\tremaining: 6m 43s\n",
            "200:\tlearn: 0.9430119\ttest: 0.9430119\ttest1: 0.9432454\tbest: 0.9432454 (200)\ttotal: 16.5s\tremaining: 6m 34s\n",
            "400:\tlearn: 0.9304989\ttest: 0.9304989\ttest1: 0.9320504\tbest: 0.9320504 (400)\ttotal: 32.5s\tremaining: 6m 13s\n",
            "600:\tlearn: 0.9235914\ttest: 0.9235914\ttest1: 0.9264812\tbest: 0.9264812 (600)\ttotal: 48s\tremaining: 5m 51s\n",
            "800:\tlearn: 0.9191174\ttest: 0.9191174\ttest1: 0.9236316\tbest: 0.9236316 (800)\ttotal: 1m 3s\tremaining: 5m 31s\n",
            "1000:\tlearn: 0.9156455\ttest: 0.9156455\ttest1: 0.9217941\tbest: 0.9217941 (1000)\ttotal: 1m 18s\tremaining: 5m 12s\n",
            "1200:\tlearn: 0.9127922\ttest: 0.9127922\ttest1: 0.9206359\tbest: 0.9206359 (1200)\ttotal: 1m 33s\tremaining: 4m 56s\n",
            "1400:\tlearn: 0.9102296\ttest: 0.9102296\ttest1: 0.9196735\tbest: 0.9196671 (1397)\ttotal: 1m 49s\tremaining: 4m 41s\n",
            "1600:\tlearn: 0.9077410\ttest: 0.9077410\ttest1: 0.9187831\tbest: 0.9187831 (1600)\ttotal: 2m 5s\tremaining: 4m 26s\n",
            "1800:\tlearn: 0.9055102\ttest: 0.9055102\ttest1: 0.9181352\tbest: 0.9181352 (1800)\ttotal: 2m 20s\tremaining: 4m 10s\n",
            "2000:\tlearn: 0.9034645\ttest: 0.9034645\ttest1: 0.9176881\tbest: 0.9176881 (2000)\ttotal: 2m 36s\tremaining: 3m 54s\n",
            "2200:\tlearn: 0.9014664\ttest: 0.9014664\ttest1: 0.9174117\tbest: 0.9174096 (2199)\ttotal: 2m 51s\tremaining: 3m 38s\n",
            "2400:\tlearn: 0.8996419\ttest: 0.8996419\ttest1: 0.9171350\tbest: 0.9171350 (2400)\ttotal: 3m 7s\tremaining: 3m 22s\n",
            "2600:\tlearn: 0.8977996\ttest: 0.8977996\ttest1: 0.9168385\tbest: 0.9168385 (2600)\ttotal: 3m 23s\tremaining: 3m 7s\n",
            "2800:\tlearn: 0.8960245\ttest: 0.8960245\ttest1: 0.9166457\tbest: 0.9166457 (2800)\ttotal: 3m 39s\tremaining: 2m 52s\n",
            "3000:\tlearn: 0.8943122\ttest: 0.8943122\ttest1: 0.9165866\tbest: 0.9165785 (2980)\ttotal: 3m 54s\tremaining: 2m 36s\n",
            "3200:\tlearn: 0.8927140\ttest: 0.8927140\ttest1: 0.9164282\tbest: 0.9164250 (3197)\ttotal: 4m 10s\tremaining: 2m 20s\n",
            "3400:\tlearn: 0.8910873\ttest: 0.8910873\ttest1: 0.9163109\tbest: 0.9163033 (3397)\ttotal: 4m 26s\tremaining: 2m 5s\n",
            "3600:\tlearn: 0.8894605\ttest: 0.8894605\ttest1: 0.9162532\tbest: 0.9162380 (3482)\ttotal: 4m 42s\tremaining: 1m 49s\n",
            "3800:\tlearn: 0.8879180\ttest: 0.8879180\ttest1: 0.9161600\tbest: 0.9161550 (3788)\ttotal: 4m 58s\tremaining: 1m 34s\n",
            "4000:\tlearn: 0.8863572\ttest: 0.8863572\ttest1: 0.9161197\tbest: 0.9160900 (3939)\ttotal: 5m 14s\tremaining: 1m 18s\n",
            "4200:\tlearn: 0.8848402\ttest: 0.8848402\ttest1: 0.9160494\tbest: 0.9160494 (4200)\ttotal: 5m 29s\tremaining: 1m 2s\n",
            "4400:\tlearn: 0.8833298\ttest: 0.8833298\ttest1: 0.9160593\tbest: 0.9160142 (4259)\ttotal: 5m 45s\tremaining: 47s\n",
            "Stopped by overfitting detector  (200 iterations wait)\n",
            "\n",
            "bestTest = 0.9160142314\n",
            "bestIteration = 4259\n",
            "\n",
            "Shrink model to first 4260 iterations.\n",
            "err_cb:  0.19349757435094406\n"
          ],
          "name": "stdout"
        }
      ]
    },
    {
      "cell_type": "code",
      "metadata": {
        "colab": {
          "base_uri": "https://localhost:8080/"
        },
        "id": "AlrYu1fzYGax",
        "outputId": "4d928222-6707-4249-d03e-0670ce6b034d"
      },
      "source": [
        "print(\"The Average Error: {}\".format(np.mean(err_CB,0)))"
      ],
      "execution_count": null,
      "outputs": [
        {
          "output_type": "stream",
          "text": [
            "The Average Error: 0.19598476229466694\n"
          ],
          "name": "stdout"
        }
      ]
    }
  ]
}